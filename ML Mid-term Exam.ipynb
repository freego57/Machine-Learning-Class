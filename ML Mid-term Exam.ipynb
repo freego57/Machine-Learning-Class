{
 "cells": [
  {
   "cell_type": "markdown",
   "metadata": {},
   "source": [
    "import packages and libraries"
   ]
  },
  {
   "cell_type": "code",
   "execution_count": 1,
   "metadata": {},
   "outputs": [],
   "source": [
    "import pandas as pd\n",
    "import numpy as np\n",
    "import matplotlib as mpl\n",
    "from matplotlib import pyplot as plt\n",
    "import seaborn as sns\n",
    "import os"
   ]
  },
  {
   "cell_type": "markdown",
   "metadata": {},
   "source": [
    "### 1. Import the spam dataset and print the first six rows.  "
   ]
  },
  {
   "cell_type": "code",
   "execution_count": 2,
   "metadata": {},
   "outputs": [
    {
     "data": {
      "text/html": [
       "<div>\n",
       "<style scoped>\n",
       "    .dataframe tbody tr th:only-of-type {\n",
       "        vertical-align: middle;\n",
       "    }\n",
       "\n",
       "    .dataframe tbody tr th {\n",
       "        vertical-align: top;\n",
       "    }\n",
       "\n",
       "    .dataframe thead th {\n",
       "        text-align: right;\n",
       "    }\n",
       "</style>\n",
       "<table border=\"1\" class=\"dataframe\">\n",
       "  <thead>\n",
       "    <tr style=\"text-align: right;\">\n",
       "      <th></th>\n",
       "      <th>word_freq_make:</th>\n",
       "      <th>word_freq_address:</th>\n",
       "      <th>word_freq_all:</th>\n",
       "      <th>word_freq_3d:</th>\n",
       "      <th>word_freq_our:</th>\n",
       "      <th>word_freq_over:</th>\n",
       "      <th>word_freq_remove:</th>\n",
       "      <th>word_freq_internet:</th>\n",
       "      <th>word_freq_order:</th>\n",
       "      <th>word_freq_mail:</th>\n",
       "      <th>...</th>\n",
       "      <th>char_freq_;:</th>\n",
       "      <th>char_freq_(:</th>\n",
       "      <th>char_freq_[:</th>\n",
       "      <th>char_freq_!:</th>\n",
       "      <th>char_freq_$:</th>\n",
       "      <th>char_freq_#:</th>\n",
       "      <th>capital_run_length_average:</th>\n",
       "      <th>capital_run_length_longest:</th>\n",
       "      <th>capital_run_length_total:</th>\n",
       "      <th>spam</th>\n",
       "    </tr>\n",
       "  </thead>\n",
       "  <tbody>\n",
       "    <tr>\n",
       "      <td>0</td>\n",
       "      <td>0.00</td>\n",
       "      <td>0.64</td>\n",
       "      <td>0.64</td>\n",
       "      <td>0.0</td>\n",
       "      <td>0.32</td>\n",
       "      <td>0.00</td>\n",
       "      <td>0.00</td>\n",
       "      <td>0.00</td>\n",
       "      <td>0.00</td>\n",
       "      <td>0.00</td>\n",
       "      <td>...</td>\n",
       "      <td>0.00</td>\n",
       "      <td>0.000</td>\n",
       "      <td>0.0</td>\n",
       "      <td>0.778</td>\n",
       "      <td>0.000</td>\n",
       "      <td>0.000</td>\n",
       "      <td>3.756</td>\n",
       "      <td>61</td>\n",
       "      <td>278</td>\n",
       "      <td>1</td>\n",
       "    </tr>\n",
       "    <tr>\n",
       "      <td>1</td>\n",
       "      <td>0.21</td>\n",
       "      <td>0.28</td>\n",
       "      <td>0.50</td>\n",
       "      <td>0.0</td>\n",
       "      <td>0.14</td>\n",
       "      <td>0.28</td>\n",
       "      <td>0.21</td>\n",
       "      <td>0.07</td>\n",
       "      <td>0.00</td>\n",
       "      <td>0.94</td>\n",
       "      <td>...</td>\n",
       "      <td>0.00</td>\n",
       "      <td>0.132</td>\n",
       "      <td>0.0</td>\n",
       "      <td>0.372</td>\n",
       "      <td>0.180</td>\n",
       "      <td>0.048</td>\n",
       "      <td>5.114</td>\n",
       "      <td>101</td>\n",
       "      <td>1028</td>\n",
       "      <td>1</td>\n",
       "    </tr>\n",
       "    <tr>\n",
       "      <td>2</td>\n",
       "      <td>0.06</td>\n",
       "      <td>0.00</td>\n",
       "      <td>0.71</td>\n",
       "      <td>0.0</td>\n",
       "      <td>1.23</td>\n",
       "      <td>0.19</td>\n",
       "      <td>0.19</td>\n",
       "      <td>0.12</td>\n",
       "      <td>0.64</td>\n",
       "      <td>0.25</td>\n",
       "      <td>...</td>\n",
       "      <td>0.01</td>\n",
       "      <td>0.143</td>\n",
       "      <td>0.0</td>\n",
       "      <td>0.276</td>\n",
       "      <td>0.184</td>\n",
       "      <td>0.010</td>\n",
       "      <td>9.821</td>\n",
       "      <td>485</td>\n",
       "      <td>2259</td>\n",
       "      <td>1</td>\n",
       "    </tr>\n",
       "    <tr>\n",
       "      <td>3</td>\n",
       "      <td>0.00</td>\n",
       "      <td>0.00</td>\n",
       "      <td>0.00</td>\n",
       "      <td>0.0</td>\n",
       "      <td>0.63</td>\n",
       "      <td>0.00</td>\n",
       "      <td>0.31</td>\n",
       "      <td>0.63</td>\n",
       "      <td>0.31</td>\n",
       "      <td>0.63</td>\n",
       "      <td>...</td>\n",
       "      <td>0.00</td>\n",
       "      <td>0.137</td>\n",
       "      <td>0.0</td>\n",
       "      <td>0.137</td>\n",
       "      <td>0.000</td>\n",
       "      <td>0.000</td>\n",
       "      <td>3.537</td>\n",
       "      <td>40</td>\n",
       "      <td>191</td>\n",
       "      <td>1</td>\n",
       "    </tr>\n",
       "    <tr>\n",
       "      <td>4</td>\n",
       "      <td>0.00</td>\n",
       "      <td>0.00</td>\n",
       "      <td>0.00</td>\n",
       "      <td>0.0</td>\n",
       "      <td>0.63</td>\n",
       "      <td>0.00</td>\n",
       "      <td>0.31</td>\n",
       "      <td>0.63</td>\n",
       "      <td>0.31</td>\n",
       "      <td>0.63</td>\n",
       "      <td>...</td>\n",
       "      <td>0.00</td>\n",
       "      <td>0.135</td>\n",
       "      <td>0.0</td>\n",
       "      <td>0.135</td>\n",
       "      <td>0.000</td>\n",
       "      <td>0.000</td>\n",
       "      <td>3.537</td>\n",
       "      <td>40</td>\n",
       "      <td>191</td>\n",
       "      <td>1</td>\n",
       "    </tr>\n",
       "    <tr>\n",
       "      <td>5</td>\n",
       "      <td>0.00</td>\n",
       "      <td>0.00</td>\n",
       "      <td>0.00</td>\n",
       "      <td>0.0</td>\n",
       "      <td>1.85</td>\n",
       "      <td>0.00</td>\n",
       "      <td>0.00</td>\n",
       "      <td>1.85</td>\n",
       "      <td>0.00</td>\n",
       "      <td>0.00</td>\n",
       "      <td>...</td>\n",
       "      <td>0.00</td>\n",
       "      <td>0.223</td>\n",
       "      <td>0.0</td>\n",
       "      <td>0.000</td>\n",
       "      <td>0.000</td>\n",
       "      <td>0.000</td>\n",
       "      <td>3.000</td>\n",
       "      <td>15</td>\n",
       "      <td>54</td>\n",
       "      <td>1</td>\n",
       "    </tr>\n",
       "  </tbody>\n",
       "</table>\n",
       "<p>6 rows × 58 columns</p>\n",
       "</div>"
      ],
      "text/plain": [
       "   word_freq_make:  word_freq_address:  word_freq_all:  word_freq_3d:  \\\n",
       "0             0.00                0.64            0.64            0.0   \n",
       "1             0.21                0.28            0.50            0.0   \n",
       "2             0.06                0.00            0.71            0.0   \n",
       "3             0.00                0.00            0.00            0.0   \n",
       "4             0.00                0.00            0.00            0.0   \n",
       "5             0.00                0.00            0.00            0.0   \n",
       "\n",
       "   word_freq_our:  word_freq_over:  word_freq_remove:  word_freq_internet:  \\\n",
       "0            0.32             0.00               0.00                 0.00   \n",
       "1            0.14             0.28               0.21                 0.07   \n",
       "2            1.23             0.19               0.19                 0.12   \n",
       "3            0.63             0.00               0.31                 0.63   \n",
       "4            0.63             0.00               0.31                 0.63   \n",
       "5            1.85             0.00               0.00                 1.85   \n",
       "\n",
       "   word_freq_order:  word_freq_mail:  ...  char_freq_;:  char_freq_(:  \\\n",
       "0              0.00             0.00  ...          0.00         0.000   \n",
       "1              0.00             0.94  ...          0.00         0.132   \n",
       "2              0.64             0.25  ...          0.01         0.143   \n",
       "3              0.31             0.63  ...          0.00         0.137   \n",
       "4              0.31             0.63  ...          0.00         0.135   \n",
       "5              0.00             0.00  ...          0.00         0.223   \n",
       "\n",
       "   char_freq_[:  char_freq_!:  char_freq_$:  char_freq_#:  \\\n",
       "0           0.0         0.778         0.000         0.000   \n",
       "1           0.0         0.372         0.180         0.048   \n",
       "2           0.0         0.276         0.184         0.010   \n",
       "3           0.0         0.137         0.000         0.000   \n",
       "4           0.0         0.135         0.000         0.000   \n",
       "5           0.0         0.000         0.000         0.000   \n",
       "\n",
       "   capital_run_length_average:  capital_run_length_longest:  \\\n",
       "0                        3.756                           61   \n",
       "1                        5.114                          101   \n",
       "2                        9.821                          485   \n",
       "3                        3.537                           40   \n",
       "4                        3.537                           40   \n",
       "5                        3.000                           15   \n",
       "\n",
       "   capital_run_length_total:  spam  \n",
       "0                        278     1  \n",
       "1                       1028     1  \n",
       "2                       2259     1  \n",
       "3                        191     1  \n",
       "4                        191     1  \n",
       "5                         54     1  \n",
       "\n",
       "[6 rows x 58 columns]"
      ]
     },
     "execution_count": 2,
     "metadata": {},
     "output_type": "execute_result"
    }
   ],
   "source": [
    "os.chdir('/Users/liyidan/desktop/QMSS ML/midterm')\n",
    "df=pd.read_csv('spam_dataset.csv')\n",
    "df.head(6)"
   ]
  },
  {
   "cell_type": "markdown",
   "metadata": {},
   "source": [
    "### 2. Which three variables in the dataset do you think will be important predictors in a model of spam?  Why?"
   ]
  },
  {
   "cell_type": "markdown",
   "metadata": {},
   "source": [
    "#### char_freq_!, char_freq_$ and capital_run_length_average will be important predictors. They are chosen by RFE feature selection based on RandomForestClassifier model as shown in the following cell. And as shown in the following boxplots, the distributions of these 3 variables are different for spam and non-spam and therefore could be important for recognizing them. This also makes sense in real life as spams usually contain more exclamation marks, dollar signs  and consecutive capital letters to attract attention."
   ]
  },
  {
   "cell_type": "code",
   "execution_count": 34,
   "metadata": {},
   "outputs": [
    {
     "name": "stdout",
     "output_type": "stream",
     "text": [
      "Num Features: 3\n",
      "Selected Features: [False False False False False False False False False False False False\n",
      " False False False False False False False False False False False False\n",
      " False False False False False False False False False False False False\n",
      " False False False False False False False False False False False False\n",
      " False False False  True  True False  True False False]\n",
      "Feature Ranking: [34 31 22 50  9 26  2 18 32 23 24 15 36 42 48  3 20 21  8 30  5 43 14 10\n",
      "  7 17 12 25 47 33 45 52 40 54 38 29 16 53 39 49 51 27 44 41 19 13 55 46\n",
      " 28 11 37  1  1 35  1  4  6]\n"
     ]
    }
   ],
   "source": [
    "#RFE feature selection\n",
    "X = df.drop(['spam'], axis=1)\n",
    "y = df.loc[:,'spam']\n",
    "\n",
    "from sklearn.model_selection import train_test_split\n",
    "X_train,X_test,y_train,y_test=train_test_split(X,y,random_state=42)\n",
    "\n",
    "from sklearn.ensemble import RandomForestClassifier\n",
    "from sklearn.feature_selection import RFE\n",
    "\n",
    "forest = RandomForestClassifier(n_estimators=200)\n",
    "formodel = forest.fit(X_train, y_train)\n",
    "\n",
    "selector = RFE(formodel, 3, step=1) \n",
    "selector = selector.fit(X_train, y_train) \n",
    "\n",
    "print(\"Num Features: %d\" % selector.n_features_)\n",
    "print(\"Selected Features: %s\" % selector.support_)\n",
    "print(\"Feature Ranking: %s\" % selector.ranking_)"
   ]
  },
  {
   "cell_type": "code",
   "execution_count": 3,
   "metadata": {},
   "outputs": [
    {
     "data": {
      "image/png": "[encoded data removed]",
      "text/plain": [
       "<Figure size 432x288 with 1 Axes>"
      ]
     },
     "metadata": {
      "needs_background": "light"
     },
     "output_type": "display_data"
    }
   ],
   "source": [
    "bp = sns.boxplot(x=\"spam\", y=\"char_freq_!:\", data=df)\n",
    "plt.xlabel('spam')\n",
    "plt.ylabel('char_freq_!')\n",
    "plt.title('boxplot of spam and char_freq_!')\n",
    "plt.show()"
   ]
  },
  {
   "cell_type": "code",
   "execution_count": 37,
   "metadata": {},
   "outputs": [
    {
     "data": {
      "image/png": "[encoded data removed]",
      "text/plain": [
       "<Figure size 432x288 with 1 Axes>"
      ]
     },
     "metadata": {
      "needs_background": "light"
     },
     "output_type": "display_data"
    }
   ],
   "source": [
    "bp = sns.boxplot(x=\"spam\", y=\"char_freq_$:\", data=df)\n",
    "plt.xlabel('spam')\n",
    "plt.ylabel('char_freq_$')\n",
    "plt.title('boxplot of spam and char_freq_$')\n",
    "plt.show()"
   ]
  },
  {
   "cell_type": "code",
   "execution_count": 35,
   "metadata": {},
   "outputs": [
    {
     "data": {
      "image/png": "[encoded data removed]",
      "text/plain": [
       "<Figure size 432x288 with 1 Axes>"
      ]
     },
     "metadata": {
      "needs_background": "light"
     },
     "output_type": "display_data"
    }
   ],
   "source": [
    "bp = sns.boxplot(x=\"spam\", y=\"capital_run_length_average:\", data=df)\n",
    "plt.xlabel('spam')\n",
    "plt.ylabel('capital_run_length_average')\n",
    "plt.title('boxplot of spam and capital_run_length_average')\n",
    "plt.show()"
   ]
  },
  {
   "cell_type": "markdown",
   "metadata": {},
   "source": [
    "### 3. Visualize the univariate distribution of each of the variables in the previous question.  "
   ]
  },
  {
   "cell_type": "markdown",
   "metadata": {},
   "source": [
    "#### char_freq_!:"
   ]
  },
  {
   "cell_type": "code",
   "execution_count": 38,
   "metadata": {},
   "outputs": [
    {
     "data": {
      "image/png": "[encoded data removed]",
      "text/plain": [
       "<Figure size 432x288 with 1 Axes>"
      ]
     },
     "metadata": {
      "needs_background": "light"
     },
     "output_type": "display_data"
    }
   ],
   "source": [
    "sns.distplot(df['char_freq_!:'], hist=True, kde=True, \n",
    "             bins=15, color = 'darkblue', \n",
    "             hist_kws={'edgecolor':'black'},\n",
    "             kde_kws={'linewidth': 3})\n",
    "\n",
    "plt.xlabel('char_freq_!')\n",
    "plt.ylabel('count')\n",
    "plt.title('Histogram and density plot of char_freq_!')\n",
    "plt.show()"
   ]
  },
  {
   "cell_type": "markdown",
   "metadata": {},
   "source": [
    "#### char_freq_$:"
   ]
  },
  {
   "cell_type": "code",
   "execution_count": 39,
   "metadata": {},
   "outputs": [
    {
     "data": {
      "image/png": "[encoded data removed]",
      "text/plain": [
       "<Figure size 432x288 with 1 Axes>"
      ]
     },
     "metadata": {
      "needs_background": "light"
     },
     "output_type": "display_data"
    }
   ],
   "source": [
    "sns.distplot(df['char_freq_$:'], hist=True, kde=True, \n",
    "             bins=15, color = 'darkblue', \n",
    "             hist_kws={'edgecolor':'black'},\n",
    "             kde_kws={'linewidth': 3})\n",
    "\n",
    "plt.xlabel('char_freq_$')\n",
    "plt.ylabel('count')\n",
    "plt.title('Histogram and density plot of char_freq_$')\n",
    "plt.show()"
   ]
  },
  {
   "cell_type": "markdown",
   "metadata": {},
   "source": [
    "#### capital_run_length_average:"
   ]
  },
  {
   "cell_type": "code",
   "execution_count": 40,
   "metadata": {},
   "outputs": [
    {
     "data": {
      "image/png": "[encoded data removed]",
      "text/plain": [
       "<Figure size 432x288 with 1 Axes>"
      ]
     },
     "metadata": {
      "needs_background": "light"
     },
     "output_type": "display_data"
    }
   ],
   "source": [
    "sns.distplot(df['capital_run_length_average:'], hist=True, kde=True, \n",
    "             bins=15, color = 'darkblue', \n",
    "             hist_kws={'edgecolor':'black'},\n",
    "             kde_kws={'linewidth': 3})\n",
    "\n",
    "plt.xlabel('capital_run_length_average')\n",
    "plt.ylabel('count')\n",
    "plt.title('Histogram and density plot of capital_run_length_average')\n",
    "plt.show()"
   ]
  },
  {
   "cell_type": "markdown",
   "metadata": {},
   "source": [
    "### 4. Name each of the supervised learning models that we have learned thus far that are used to predict dependent variables like \"spam\".   "
   ]
  },
  {
   "cell_type": "markdown",
   "metadata": {},
   "source": [
    "#### 'spam' is a categorical variable so we should choose classification models. We've learned logistic regression, logistic regression with penalty, knn, SVM, decision tree, bagging, random forests and boosting to predict such categorical variables."
   ]
  },
  {
   "cell_type": "markdown",
   "metadata": {},
   "source": [
    "### 5. Describe the importance of training and test data.  Why do we separate data into these subsets?"
   ]
  },
  {
   "cell_type": "markdown",
   "metadata": {},
   "source": [
    "#### We use training data to train the model and then use the test data to evaluate the accuracy of the model. If we use all the data available to train a model, we might get high accuracy on the dataset but when using the model on other data, the accuracy will be lower as the model might take in too many features that are only shown in the training dataset, which is also called overfitting. While with test data aside, we can use it to detect the problem of overfitting and choose a model that have the highest accuracy on  the test dataset."
   ]
  },
  {
   "cell_type": "markdown",
   "metadata": {},
   "source": [
    "### 6. What is k-fold cross validation and what do we use it for?"
   ]
  },
  {
   "cell_type": "markdown",
   "metadata": {},
   "source": [
    "#### k-fold cross validation is a way of validating models. We split the training dataset randomly into k folds of approximately equal size. Each time one of the k folds serve as test data, and the rest (k-1) folds are used to train the model. We do this k times so every part was once a test data. We then use the average of the accuracy on the part of test data to present the accuracy of the model."
   ]
  },
  {
   "cell_type": "markdown",
   "metadata": {},
   "source": [
    "### 7. How is k-fold cross validation different from stratified k-fold cross validation?"
   ]
  },
  {
   "cell_type": "markdown",
   "metadata": {},
   "source": [
    "#### In k-fold cross validation, the data are splitted into k folds randomly, while for stratified k-fold cross validation, we will need to ensure relative class frequencies in each fold reflect class frequencies on the whole dataset."
   ]
  },
  {
   "cell_type": "markdown",
   "metadata": {},
   "source": [
    "### 8. Choose one model from question four.  Split the data into training and test subsets.  Build a model with the three variables in the dataset that you think will be good predictors of \"spam\".  Describe why you chose any particular parameters for your model (e.g.- if you used KNN how did you decide to choose a specific value for k).  Run the model and evaluate prediction error in two ways: A) On test data directly and B) using k-fold cross-validation.  \n",
    "\n"
   ]
  },
  {
   "cell_type": "markdown",
   "metadata": {},
   "source": [
    "#### Split the data into training and test subsets."
   ]
  },
  {
   "cell_type": "code",
   "execution_count": 8,
   "metadata": {},
   "outputs": [],
   "source": [
    "X = df.loc[:,['char_freq_!:','char_freq_$:','capital_run_length_average:']]\n",
    "y = df.loc[:,'spam']\n",
    "from sklearn.model_selection import train_test_split\n",
    "X_train,X_test,y_train,y_test=train_test_split(X,y,random_state=42)"
   ]
  },
  {
   "cell_type": "markdown",
   "metadata": {},
   "source": [
    "#### Scale the data"
   ]
  },
  {
   "cell_type": "code",
   "execution_count": 9,
   "metadata": {},
   "outputs": [],
   "source": [
    "from sklearn import preprocessing\n",
    "scaler = preprocessing.StandardScaler()\n",
    "scaler.fit(X_train)\n",
    "X_train_scaled = scaler.transform(X_train)\n",
    "X_test_scaled = scaler.transform(X_test)"
   ]
  },
  {
   "cell_type": "code",
   "execution_count": 6,
   "metadata": {},
   "outputs": [],
   "source": [
    "#avoid warnings\n",
    "# import warnings filter\n",
    "from warnings import simplefilter\n",
    "# ignore all future warnings\n",
    "simplefilter(action='ignore', category=FutureWarning)"
   ]
  },
  {
   "cell_type": "markdown",
   "metadata": {},
   "source": [
    "#### logistic regression"
   ]
  },
  {
   "cell_type": "code",
   "execution_count": 14,
   "metadata": {},
   "outputs": [
    {
     "name": "stdout",
     "output_type": "stream",
     "text": [
      "best parameters: {'C': 100}\n",
      "test-set score: 0.823\n",
      "best mean cross-validation score: 0.821\n"
     ]
    }
   ],
   "source": [
    "from sklearn.linear_model import LogisticRegression\n",
    "from sklearn.model_selection import GridSearchCV\n",
    "param_grid = {'C': [0.01,1,100,1e90]} \n",
    "\n",
    "grid = GridSearchCV(LogisticRegression(), param_grid=param_grid,cv=10)\n",
    "grid.fit(X_train_scaled, y_train)\n",
    "\n",
    "#find the best C\n",
    "print(\"best parameters: {}\".format(grid.best_params_))\n",
    "\n",
    "#evaluate prediction error on test data\n",
    "print(\"test-set score: {:.3f}\".format(grid.score(X_test_scaled, y_test)))\n",
    "\n",
    "#evaluate prediction error using k-fold cross-validation\n",
    "print(\"best mean cross-validation score: {:.3f}\".format(grid.best_score_))"
   ]
  },
  {
   "cell_type": "markdown",
   "metadata": {},
   "source": [
    "#### I used GridSearchCV to find the C that can give the higest mean cross-validation score and the best C is 100."
   ]
  },
  {
   "cell_type": "markdown",
   "metadata": {},
   "source": [
    "### 9. Choose a second model from question four.  Using the same three variables in the dataset that you think will be good predictors of \"spam\".  Describe why you chose any particular parameters for your model (e.g.- if you used KNN how did you decide to choose a specific value for k).  Run the model and evaluate prediction error in two ways: A) On test data directly and B) using k-fold cross-validation.  Did this model predict test data better than your previous model?"
   ]
  },
  {
   "cell_type": "markdown",
   "metadata": {},
   "source": [
    "#### knn"
   ]
  },
  {
   "cell_type": "code",
   "execution_count": 6,
   "metadata": {},
   "outputs": [
    {
     "name": "stdout",
     "output_type": "stream",
     "text": [
      "best parameters: {'n_neighbors': 17}\n",
      "test-set score: 0.861\n",
      "best mean cross-validation score: 0.870\n"
     ]
    }
   ],
   "source": [
    "from sklearn.neighbors import KNeighborsClassifier\n",
    "from sklearn.model_selection import GridSearchCV\n",
    "\n",
    "param_grid = {'n_neighbors': np.arange(1, 25, 2)} \n",
    "grid = GridSearchCV(KNeighborsClassifier(), param_grid=param_grid,cv=10)\n",
    "grid.fit(X_train_scaled, y_train)\n",
    "\n",
    "#find the best k\n",
    "print(\"best parameters: {}\".format(grid.best_params_))\n",
    "\n",
    "#evaluate prediction error on test data\n",
    "print(\"test-set score: {:.3f}\".format(grid.score(X_test_scaled, y_test)))\n",
    "\n",
    "#evaluate prediction error using k-fold cross-validation\n",
    "print(\"best mean cross-validation score: {:.3f}\".format(grid.best_score_))"
   ]
  },
  {
   "cell_type": "markdown",
   "metadata": {},
   "source": [
    "#### I used GridSearchCV to find the n_neighbors that can give the higest mean cross-validation score and the best n_neighbors is 17. knn gave a better 'test-set score' of 0.861 compared with that of 0.823 from logistic regression."
   ]
  },
  {
   "cell_type": "markdown",
   "metadata": {},
   "source": [
    "#### SVM"
   ]
  },
  {
   "cell_type": "code",
   "execution_count": null,
   "metadata": {},
   "outputs": [],
   "source": [
    "from sklearn.svm import SVC\n",
    "param_grid = {'kernel': ['linear'，'rbf'],'C':[100,1E10]} \n",
    "grid = GridSearchCV(SVC(), param_grid=param_grid,cv=10)\n",
    "grid.fit(X_train_scaled, y_train)\n",
    "\n",
    "#find the best C\n",
    "print(\"best parameters: {}\".format(grid.best_params_))\n",
    "\n",
    "#evaluate prediction error on test data\n",
    "print(\"test-set score: {:.3f}\".format(grid.score(X_test_scaled, y_test)))\n",
    "\n",
    "#evaluate prediction error using k-fold cross-validation\n",
    "print(\"best mean cross-validation score: {:.3f}\".format(grid.best_score_))\n",
    "\n",
    "\n",
    "#take too long to get the result"
   ]
  },
  {
   "cell_type": "markdown",
   "metadata": {},
   "source": [
    "### 10. Choose a third model from question four.  Using the same three variables in the dataset that you think will be good predictors of \"spam\".  Describe why you chose any particular parameters for your model (e.g.- if you used KNN how did you decide to choose a specific value for k). Run the model and evaluate prediction error in two ways: A) On test data directly and B) using k-fold cross-validation.  Did this model predict test data better than your previous models?"
   ]
  },
  {
   "cell_type": "markdown",
   "metadata": {},
   "source": [
    "#### bagging"
   ]
  },
  {
   "cell_type": "code",
   "execution_count": 14,
   "metadata": {},
   "outputs": [
    {
     "name": "stdout",
     "output_type": "stream",
     "text": [
      "best parameters: {'n_estimators': 1000}\n",
      "test-set score: 0.851\n",
      "best mean cross-validation score: 0.859\n"
     ]
    }
   ],
   "source": [
    "from sklearn.tree import DecisionTreeClassifier\n",
    "from sklearn.ensemble import BaggingClassifier\n",
    "from sklearn.model_selection import GridSearchCV\n",
    "\n",
    "tree = DecisionTreeClassifier() #Need to instantiate a model type for bagging first\n",
    "param_grid = {'n_estimators':[500,1000,2000]}\n",
    "\n",
    "\n",
    "grid = GridSearchCV(BaggingClassifier(tree,random_state=1), param_grid=param_grid,cv=10)\n",
    "grid.fit(X_train, y_train)\n",
    "\n",
    "#find the best n_estimators\n",
    "print(\"best parameters: {}\".format(grid.best_params_))\n",
    "\n",
    "#evaluate prediction error on test data\n",
    "print(\"test-set score: {:.3f}\".format(grid.score(X_test, y_test)))\n",
    "\n",
    "#evaluate prediction error using k-fold cross-validation\n",
    "print(\"best mean cross-validation score: {:.3f}\".format(grid.best_score_))"
   ]
  },
  {
   "cell_type": "markdown",
   "metadata": {},
   "source": [
    "#### I used GridSearchCV to find the n_estimators that can give the higest mean cross-validation score and the best n_estimators is 1000. This model didn't give a better 'test-set score' compared with the previous models."
   ]
  },
  {
   "cell_type": "markdown",
   "metadata": {},
   "source": [
    "### 11. Choose a fourth model from question four.  Using the same three variables in the dataset that you think will be good predictors of \"spam\".  Describe why you chose any particular parameters for your model (e.g.- if you used KNN how did you decide to choose a specific value for k). Run the model and evaluate prediction error in two ways: A) On test data directly and B) using k-fold cross-validation.  Did this model predict test data better than your previous models?"
   ]
  },
  {
   "cell_type": "markdown",
   "metadata": {},
   "source": [
    "#### random forest"
   ]
  },
  {
   "cell_type": "code",
   "execution_count": 16,
   "metadata": {},
   "outputs": [
    {
     "name": "stdout",
     "output_type": "stream",
     "text": [
      "best parameters: {'criterion': 'gini', 'max_depth': 10, 'n_estimators': 200}\n",
      "test-set score: 0.867\n",
      "best mean cross-validation score: 0.880\n"
     ]
    }
   ],
   "source": [
    "from sklearn.ensemble import RandomForestClassifier\n",
    "param_grid = {'n_estimators': [100,200,500],'max_depth':[10,50],'criterion':['gini','entropy']} \n",
    "grid = GridSearchCV(RandomForestClassifier(), param_grid=param_grid,cv=10)\n",
    "grid.fit(X_train, y_train)\n",
    "\n",
    "#find the best n_estimators\n",
    "print(\"best parameters: {}\".format(grid.best_params_))\n",
    "\n",
    "#evaluate prediction error on test data\n",
    "print(\"test-set score: {:.3f}\".format(grid.score(X_test, y_test)))\n",
    "\n",
    "#evaluate prediction error using k-fold cross-validation\n",
    "print(\"best mean cross-validation score: {:.3f}\".format(grid.best_score_))"
   ]
  },
  {
   "cell_type": "markdown",
   "metadata": {},
   "source": [
    "#### I used GridSearchCV to find the n_estimators that can give the higest mean cross-validation score and the best n_estimators is 100, the best max_depth is 10, and the best criterion is gini. This model gives a better 'test-set score' of 0.867 compared with that of 0.861 from knn."
   ]
  },
  {
   "cell_type": "markdown",
   "metadata": {},
   "source": [
    "### 12. Now rerun your best model from questions 8 through 11, but this time add three new variables to the model that you think will increase prediction accuracy.   Did this model predict test data better than your previous models?  "
   ]
  },
  {
   "cell_type": "code",
   "execution_count": 34,
   "metadata": {},
   "outputs": [
    {
     "name": "stdout",
     "output_type": "stream",
     "text": [
      "Num Features: 6\n",
      "Selected Features: [False False False False False False  True False False False False False\n",
      " False False False  True False False False False  True False False False\n",
      " False False False False False False False False False False False False\n",
      " False False False False False False False False False False False False\n",
      " False False False  True  True False  True False False]\n",
      "Feature Ranking: [30 24 17 46  7 22  1 14 29 20 21 12 32 37 44  1 18 19  5 28  1 36 10  6\n",
      "  4 15  8 23 43 33 40 49 38 50 34 27 13 51 35 47 48 26 42 41 16 11 52 45\n",
      " 25  9 39  1  1 31  1  2  3]\n"
     ]
    }
   ],
   "source": [
    "#RFE feature selection\n",
    "X = df.drop(['spam'], axis=1)\n",
    "y = df.loc[:,'spam']\n",
    "\n",
    "from sklearn.model_selection import train_test_split\n",
    "X_train,X_test,y_train,y_test=train_test_split(X,y,random_state=42)\n",
    "\n",
    "from sklearn.ensemble import RandomForestClassifier\n",
    "from sklearn.feature_selection import RFE\n",
    "\n",
    "forest = RandomForestClassifier(n_estimators=200)\n",
    "formodel = forest.fit(X_train, y_train)\n",
    "\n",
    "selector = RFE(formodel,6, step=1) \n",
    "selector = selector.fit(X_train, y_train) \n",
    "\n",
    "print(\"Num Features: %d\" % selector.n_features_)\n",
    "print(\"Selected Features: %s\" % selector.support_)\n",
    "print(\"Feature Ranking: %s\" % selector.ranking_)"
   ]
  },
  {
   "cell_type": "code",
   "execution_count": 20,
   "metadata": {},
   "outputs": [],
   "source": [
    "X = df.loc[:,['char_freq_!:','char_freq_$:','capital_run_length_average:','word_freq_remove:','word_freq_free:','capital_run_length_longest:']]\n",
    "y = df.loc[:,'spam']\n",
    "from sklearn.model_selection import train_test_split\n",
    "X_train,X_test,y_train,y_test=train_test_split(X,y,random_state=42)"
   ]
  },
  {
   "cell_type": "code",
   "execution_count": 21,
   "metadata": {},
   "outputs": [],
   "source": [
    "from sklearn import preprocessing\n",
    "scaler = preprocessing.StandardScaler()\n",
    "scaler.fit(X_train)\n",
    "X_train_scaled = scaler.transform(X_train)\n",
    "X_test_scaled = scaler.transform(X_test)"
   ]
  },
  {
   "cell_type": "code",
   "execution_count": 22,
   "metadata": {},
   "outputs": [
    {
     "name": "stdout",
     "output_type": "stream",
     "text": [
      "best parameters: {'criterion': 'gini', 'max_depth': 10, 'n_estimators': 500}\n",
      "test-set score: 0.905\n",
      "best mean cross-validation score: 0.920\n"
     ]
    }
   ],
   "source": [
    "#random forest (best model in the previous question)\n",
    "from sklearn.ensemble import RandomForestClassifier\n",
    "param_grid = {'n_estimators': [100,200,500],'max_depth':[10,50],'criterion':['gini','entropy']} \n",
    "grid = GridSearchCV(RandomForestClassifier(), param_grid=param_grid,cv=10)\n",
    "grid.fit(X_train, y_train)\n",
    "\n",
    "#find the best n_estimators\n",
    "print(\"best parameters: {}\".format(grid.best_params_))\n",
    "\n",
    "#evaluate prediction error on test data\n",
    "print(\"test-set score: {:.3f}\".format(grid.score(X_test, y_test)))\n",
    "\n",
    "#evaluate prediction error using k-fold cross-validation\n",
    "print(\"best mean cross-validation score: {:.3f}\".format(grid.best_score_))"
   ]
  },
  {
   "cell_type": "markdown",
   "metadata": {},
   "source": [
    "#### This model predicts better than the previous model, with 'test-set score' at 0.905 and 'best mean cross-validation score' at 0.920, both higher than the model with 3 variables."
   ]
  },
  {
   "cell_type": "markdown",
   "metadata": {},
   "source": [
    "### 13. Rerun all your other models with this final set of six variables, evaluate prediction error, and choose a final model.  Why did you select this model among all of the models that you ran?  "
   ]
  },
  {
   "cell_type": "code",
   "execution_count": 27,
   "metadata": {},
   "outputs": [
    {
     "name": "stdout",
     "output_type": "stream",
     "text": [
      "best parameters: {'C': 1e+90}\n",
      "test-set score: 0.857\n",
      "best mean cross-validation score: 0.860\n"
     ]
    }
   ],
   "source": [
    "#logistic regression\n",
    "from sklearn.linear_model import LogisticRegression\n",
    "from sklearn.model_selection import GridSearchCV\n",
    "param_grid = {'C': [0.01,1,100,1e90]} \n",
    "\n",
    "grid = GridSearchCV(LogisticRegression(), param_grid=param_grid,cv=10)\n",
    "grid.fit(X_train_scaled, y_train)\n",
    "\n",
    "#find the best C\n",
    "print(\"best parameters: {}\".format(grid.best_params_))\n",
    "\n",
    "#evaluate prediction error on test data\n",
    "print(\"test-set score: {:.3f}\".format(grid.score(X_test_scaled, y_test)))\n",
    "\n",
    "#evaluate prediction error using k-fold cross-validation\n",
    "print(\"best mean cross-validation score: {:.3f}\".format(grid.best_score_))"
   ]
  },
  {
   "cell_type": "code",
   "execution_count": 26,
   "metadata": {},
   "outputs": [
    {
     "name": "stdout",
     "output_type": "stream",
     "text": [
      "best parameters: {'n_neighbors': 5}\n",
      "test-set score: 0.877\n",
      "best mean cross-validation score: 0.901\n"
     ]
    }
   ],
   "source": [
    "#knn\n",
    "from sklearn.neighbors import KNeighborsClassifier\n",
    "from sklearn.model_selection import GridSearchCV\n",
    "\n",
    "param_grid = {'n_neighbors': np.arange(1, 25, 2)} \n",
    "grid = GridSearchCV(KNeighborsClassifier(), param_grid=param_grid,cv=10)\n",
    "grid.fit(X_train_scaled, y_train)\n",
    "\n",
    "#find the best k\n",
    "print(\"best parameters: {}\".format(grid.best_params_))\n",
    "\n",
    "#evaluate prediction error on test data\n",
    "print(\"test-set score: {:.3f}\".format(grid.score(X_test_scaled, y_test)))\n",
    "\n",
    "#evaluate prediction error using k-fold cross-validation\n",
    "print(\"best mean cross-validation score: {:.3f}\".format(grid.best_score_))"
   ]
  },
  {
   "cell_type": "code",
   "execution_count": null,
   "metadata": {},
   "outputs": [],
   "source": [
    "#SVM\n",
    "from sklearn.svm import SVC\n",
    "param_grid = {'kernel': ['linear'，'rbf'],'C':[100,1E10]} \n",
    "grid = GridSearchCV(SVC(), param_grid=param_grid,cv=10)\n",
    "grid.fit(X_train_scaled, y_train)\n",
    "\n",
    "#find the best C\n",
    "print(\"best parameters: {}\".format(grid.best_params_))\n",
    "\n",
    "#evaluate prediction error on test data\n",
    "print(\"test-set score: {:.3f}\".format(grid.score(X_test_scaled, y_test)))\n",
    "\n",
    "#evaluate prediction error using k-fold cross-validation\n",
    "print(\"best mean cross-validation score: {:.3f}\".format(grid.best_score_))\n",
    "\n",
    "\n",
    "#take too long to get the result"
   ]
  },
  {
   "cell_type": "code",
   "execution_count": 29,
   "metadata": {},
   "outputs": [
    {
     "name": "stdout",
     "output_type": "stream",
     "text": [
      "best parameters: {'n_estimators': 500}\n",
      "test-set score: 0.907\n",
      "best mean cross-validation score: 0.915\n"
     ]
    }
   ],
   "source": [
    "#bagging\n",
    "from sklearn.tree import DecisionTreeClassifier\n",
    "from sklearn.ensemble import BaggingClassifier\n",
    "from sklearn.model_selection import GridSearchCV\n",
    "\n",
    "tree = DecisionTreeClassifier() #Need to instantiate a model type for bagging first\n",
    "param_grid = {'n_estimators':[500,1000,2000]}\n",
    "\n",
    "\n",
    "grid = GridSearchCV(BaggingClassifier(tree,random_state=1), param_grid=param_grid,cv=10)\n",
    "grid.fit(X_train, y_train)\n",
    "\n",
    "#find the best n_estimator\n",
    "print(\"best parameters: {}\".format(grid.best_params_))\n",
    "\n",
    "#evaluate prediction error on test data\n",
    "print(\"test-set score: {:.3f}\".format(grid.score(X_test, y_test)))\n",
    "\n",
    "#evaluate prediction error using k-fold cross-validation\n",
    "print(\"best mean cross-validation score: {:.3f}\".format(grid.best_score_))"
   ]
  },
  {
   "cell_type": "markdown",
   "metadata": {},
   "source": [
    "#### I will choose random forest with the 6 variables, n_estimators=500, max_depth=10 and criterion='gini' as the final model because it has the highest 'best mean cross-validation score' (0.920) among all models, meaning that it has higher accuracy when doing prediction."
   ]
  },
  {
   "cell_type": "markdown",
   "metadata": {},
   "source": [
    "### 14. What variable that currently is not in your model, if included, would be likely to increase your final model's predictive power?  For this answer try to speculate about a variable outside the variables available in the data that would improve you model."
   ]
  },
  {
   "cell_type": "markdown",
   "metadata": {},
   "source": [
    "#### Adding 'word_freq_your:' might increase the predictive power. As this variable has pretty different distribution for spams and non-spams."
   ]
  },
  {
   "cell_type": "code",
   "execution_count": 35,
   "metadata": {},
   "outputs": [
    {
     "data": {
      "image/png": "[encoded data removed]",
      "text/plain": [
       "<Figure size 432x288 with 1 Axes>"
      ]
     },
     "metadata": {
      "needs_background": "light"
     },
     "output_type": "display_data"
    }
   ],
   "source": [
    "bp = sns.boxplot(x=\"spam\", y=\"word_freq_your:\", data=df)\n",
    "plt.xlabel('spam')\n",
    "plt.ylabel('word_freq_your')\n",
    "plt.title('boxplot of spam and word_freq_your')\n",
    "plt.show()"
   ]
  },
  {
   "cell_type": "markdown",
   "metadata": {},
   "source": [
    "### 15. Lastly, you have listed each of the models that we have learned to use to predict dependent variables like spam.  List each model we have focused on in class thus far that you could use to evaluate data with a continuous dependent variable. "
   ]
  },
  {
   "cell_type": "markdown",
   "metadata": {},
   "source": [
    "#### For data with a continuous dependent variable, we need regression models. We've learnt linear regression, ridge, lasso, knn, svm, decision tree, bagging, random forest and boosting."
   ]
  },
  {
   "cell_type": "code",
   "execution_count": null,
   "metadata": {},
   "outputs": [],
   "source": []
  }
 ],
 "metadata": {
  "kernelspec": {
   "display_name": "Python 3",
   "language": "python",
   "name": "python3"
  },
  "language_info": {
   "codemirror_mode": {
    "name": "ipython",
    "version": 3
   },
   "file_extension": ".py",
   "mimetype": "text/x-python",
   "name": "python",
   "nbconvert_exporter": "python",
   "pygments_lexer": "ipython3",
   "version": "3.7.4"
  }
 },
 "nbformat": 4,
 "nbformat_minor": 2
}
