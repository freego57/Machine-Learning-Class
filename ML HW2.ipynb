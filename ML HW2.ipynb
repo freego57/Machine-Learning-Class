{
 "cells": [
  {
   "cell_type": "markdown",
   "metadata": {},
   "source": [
    "# HW 2: Supervised Learning Models"
   ]
  },
  {
   "cell_type": "markdown",
   "metadata": {},
   "source": [
    "## Part 1: Regression on California Test Scores"
   ]
  },
  {
   "cell_type": "markdown",
   "metadata": {},
   "source": [
    "import packages and libraries"
   ]
  },
  {
   "cell_type": "code",
   "execution_count": 113,
   "metadata": {},
   "outputs": [],
   "source": [
    "import pandas as pd\n",
    "import numpy as np\n",
    "import seaborn as sns\n",
    "import matplotlib as mpl\n",
    "from matplotlib import pyplot as plt"
   ]
  },
  {
   "cell_type": "markdown",
   "metadata": {},
   "source": [
    "read in the dataset and remove the last 2 columns and non-numeric columns"
   ]
  },
  {
   "cell_type": "code",
   "execution_count": 114,
   "metadata": {
    "scrolled": true
   },
   "outputs": [
    {
     "data": {
      "text/html": [
       "<div>\n",
       "<style scoped>\n",
       "    .dataframe tbody tr th:only-of-type {\n",
       "        vertical-align: middle;\n",
       "    }\n",
       "\n",
       "    .dataframe tbody tr th {\n",
       "        vertical-align: top;\n",
       "    }\n",
       "\n",
       "    .dataframe thead th {\n",
       "        text-align: right;\n",
       "    }\n",
       "</style>\n",
       "<table border=\"1\" class=\"dataframe\">\n",
       "  <thead>\n",
       "    <tr style=\"text-align: right;\">\n",
       "      <th></th>\n",
       "      <th>distcod</th>\n",
       "      <th>enrltot</th>\n",
       "      <th>teachers</th>\n",
       "      <th>calwpct</th>\n",
       "      <th>mealpct</th>\n",
       "      <th>computer</th>\n",
       "      <th>testscr</th>\n",
       "      <th>compstu</th>\n",
       "      <th>expnstu</th>\n",
       "      <th>str</th>\n",
       "      <th>avginc</th>\n",
       "      <th>elpct</th>\n",
       "    </tr>\n",
       "  </thead>\n",
       "  <tbody>\n",
       "    <tr>\n",
       "      <td>0</td>\n",
       "      <td>75119</td>\n",
       "      <td>195</td>\n",
       "      <td>10.900000</td>\n",
       "      <td>0.510200</td>\n",
       "      <td>2.040800</td>\n",
       "      <td>67</td>\n",
       "      <td>690.799988</td>\n",
       "      <td>0.343590</td>\n",
       "      <td>6384.911133</td>\n",
       "      <td>17.889910</td>\n",
       "      <td>22.690001</td>\n",
       "      <td>0.000000</td>\n",
       "    </tr>\n",
       "    <tr>\n",
       "      <td>1</td>\n",
       "      <td>61499</td>\n",
       "      <td>240</td>\n",
       "      <td>11.150000</td>\n",
       "      <td>15.416700</td>\n",
       "      <td>47.916698</td>\n",
       "      <td>101</td>\n",
       "      <td>661.200012</td>\n",
       "      <td>0.420833</td>\n",
       "      <td>5099.380859</td>\n",
       "      <td>21.524664</td>\n",
       "      <td>9.824000</td>\n",
       "      <td>4.583333</td>\n",
       "    </tr>\n",
       "    <tr>\n",
       "      <td>2</td>\n",
       "      <td>61549</td>\n",
       "      <td>1550</td>\n",
       "      <td>82.900002</td>\n",
       "      <td>55.032299</td>\n",
       "      <td>76.322601</td>\n",
       "      <td>169</td>\n",
       "      <td>643.599976</td>\n",
       "      <td>0.109032</td>\n",
       "      <td>5501.954590</td>\n",
       "      <td>18.697226</td>\n",
       "      <td>8.978000</td>\n",
       "      <td>30.000002</td>\n",
       "    </tr>\n",
       "    <tr>\n",
       "      <td>3</td>\n",
       "      <td>61457</td>\n",
       "      <td>243</td>\n",
       "      <td>14.000000</td>\n",
       "      <td>36.475399</td>\n",
       "      <td>77.049202</td>\n",
       "      <td>85</td>\n",
       "      <td>647.700012</td>\n",
       "      <td>0.349794</td>\n",
       "      <td>7101.831055</td>\n",
       "      <td>17.357143</td>\n",
       "      <td>8.978000</td>\n",
       "      <td>0.000000</td>\n",
       "    </tr>\n",
       "    <tr>\n",
       "      <td>4</td>\n",
       "      <td>61523</td>\n",
       "      <td>1335</td>\n",
       "      <td>71.500000</td>\n",
       "      <td>33.108601</td>\n",
       "      <td>78.427002</td>\n",
       "      <td>171</td>\n",
       "      <td>640.849976</td>\n",
       "      <td>0.128090</td>\n",
       "      <td>5235.987793</td>\n",
       "      <td>18.671329</td>\n",
       "      <td>9.080333</td>\n",
       "      <td>13.857677</td>\n",
       "    </tr>\n",
       "  </tbody>\n",
       "</table>\n",
       "</div>"
      ],
      "text/plain": [
       "   distcod  enrltot   teachers    calwpct    mealpct  computer     testscr  \\\n",
       "0    75119      195  10.900000   0.510200   2.040800        67  690.799988   \n",
       "1    61499      240  11.150000  15.416700  47.916698       101  661.200012   \n",
       "2    61549     1550  82.900002  55.032299  76.322601       169  643.599976   \n",
       "3    61457      243  14.000000  36.475399  77.049202        85  647.700012   \n",
       "4    61523     1335  71.500000  33.108601  78.427002       171  640.849976   \n",
       "\n",
       "    compstu      expnstu        str     avginc      elpct  \n",
       "0  0.343590  6384.911133  17.889910  22.690001   0.000000  \n",
       "1  0.420833  5099.380859  21.524664   9.824000   4.583333  \n",
       "2  0.109032  5501.954590  18.697226   8.978000  30.000002  \n",
       "3  0.349794  7101.831055  17.357143   8.978000   0.000000  \n",
       "4  0.128090  5235.987793  18.671329   9.080333  13.857677  "
      ]
     },
     "execution_count": 114,
     "metadata": {},
     "output_type": "execute_result"
    }
   ],
   "source": [
    "df=pd.read_csv(\"https://vincentarelbundock.github.io/Rdatasets/csv/Ecdat/Caschool.csv\")\n",
    "df = df.iloc[:, 1:-2]\n",
    "df = df.drop(['county','district','grspan'], axis=1)\n",
    "df.head(5)"
   ]
  },
  {
   "cell_type": "markdown",
   "metadata": {},
   "source": [
    "### 1.1 Visualize the univariate distribution of the target feature and each of the three continuous explanatory variables that you think are likely to have a relationship with the target feature.   "
   ]
  },
  {
   "cell_type": "markdown",
   "metadata": {},
   "source": [
    "#### Distribution of target feature (testscr)"
   ]
  },
  {
   "cell_type": "code",
   "execution_count": 26,
   "metadata": {},
   "outputs": [
    {
     "data": {
      "image/png": "[encoded data removed]",
      "text/plain": [
       "<Figure size 432x288 with 1 Axes>"
      ]
     },
     "metadata": {
      "needs_background": "light"
     },
     "output_type": "display_data"
    }
   ],
   "source": [
    "sns.distplot(df['testscr'], hist=True, kde=True, \n",
    "             bins=12, color = 'darkblue', \n",
    "             hist_kws={'edgecolor':'black'},\n",
    "             kde_kws={'linewidth': 3})\n",
    "\n",
    "plt.xlabel('test score')\n",
    "plt.ylabel('count')\n",
    "plt.title('Histogram and density plot of test score')\n",
    "plt.show()"
   ]
  },
  {
   "cell_type": "markdown",
   "metadata": {},
   "source": [
    "#### Distribution of percent qualifying for CalWorks"
   ]
  },
  {
   "cell_type": "code",
   "execution_count": 27,
   "metadata": {},
   "outputs": [
    {
     "data": {
      "image/png": "[encoded data removed]",
      "text/plain": [
       "<Figure size 432x288 with 1 Axes>"
      ]
     },
     "metadata": {
      "needs_background": "light"
     },
     "output_type": "display_data"
    }
   ],
   "source": [
    "sns.distplot(df['calwpct'], hist=True, kde=True, \n",
    "             bins=12, color = 'darkblue', \n",
    "             hist_kws={'edgecolor':'black'},\n",
    "             kde_kws={'linewidth': 3})\n",
    "\n",
    "plt.xlabel('percentage qualifying for Calworks')\n",
    "plt.ylabel('count')\n",
    "plt.title('Histogram and density plot of percent qualifying for CalWorks')\n",
    "plt.show()"
   ]
  },
  {
   "cell_type": "markdown",
   "metadata": {},
   "source": [
    "#### Distribution of percent qualifying for reduced-price lunch"
   ]
  },
  {
   "cell_type": "code",
   "execution_count": 28,
   "metadata": {},
   "outputs": [
    {
     "data": {
      "image/png": "[encoded data removed]",
      "text/plain": [
       "<Figure size 432x288 with 1 Axes>"
      ]
     },
     "metadata": {
      "needs_background": "light"
     },
     "output_type": "display_data"
    }
   ],
   "source": [
    "sns.distplot(df['mealpct'], hist=True, kde=True, \n",
    "             bins=10, color = 'darkblue', \n",
    "             hist_kws={'edgecolor':'black'},\n",
    "             kde_kws={'linewidth': 3})\n",
    "\n",
    "plt.xlabel('reduced-price lunch percentage')\n",
    "plt.ylabel('count')\n",
    "plt.title('Histogram and density plot of reduced meal percentage')\n",
    "plt.show()"
   ]
  },
  {
   "cell_type": "markdown",
   "metadata": {},
   "source": [
    "#### Distribution of district average income"
   ]
  },
  {
   "cell_type": "code",
   "execution_count": 29,
   "metadata": {},
   "outputs": [
    {
     "data": {
      "image/png": "[encoded data removed]",
      "text/plain": [
       "<Figure size 432x288 with 1 Axes>"
      ]
     },
     "metadata": {
      "needs_background": "light"
     },
     "output_type": "display_data"
    }
   ],
   "source": [
    "sns.distplot(df['avginc'], hist=True, kde=True, \n",
    "             bins=15, color = 'darkblue', \n",
    "             hist_kws={'edgecolor':'black'},\n",
    "             kde_kws={'linewidth': 3})\n",
    "\n",
    "plt.xlabel('district average income')\n",
    "plt.ylabel('count')\n",
    "plt.title('Histogram and density plot of district average income')\n",
    "plt.show()"
   ]
  },
  {
   "cell_type": "markdown",
   "metadata": {},
   "source": [
    "### 1.2 Visualize the dependency of the target on each feature from 1.1."
   ]
  },
  {
   "cell_type": "markdown",
   "metadata": {},
   "source": [
    "#### percent qualifying for CalWorks and test score"
   ]
  },
  {
   "cell_type": "code",
   "execution_count": 30,
   "metadata": {
    "scrolled": true
   },
   "outputs": [
    {
     "data": {
      "image/png": "[encoded data removed]",
      "text/plain": [
       "<Figure size 432x288 with 1 Axes>"
      ]
     },
     "metadata": {
      "needs_background": "light"
     },
     "output_type": "display_data"
    }
   ],
   "source": [
    "sp = sns.scatterplot(x=df['calwpct'], y=df['testscr'],alpha=0.6,color='blue')\n",
    "plt.xlabel('percentage qualifying for Calworks')\n",
    "plt.ylabel('test score')\n",
    "plt.title('scatter plot of percent qualifying for CalWorks and test score')\n",
    "plt.show()"
   ]
  },
  {
   "cell_type": "markdown",
   "metadata": {},
   "source": [
    "#### percent qualifying for reduced-price lunch and test score"
   ]
  },
  {
   "cell_type": "code",
   "execution_count": 31,
   "metadata": {
    "scrolled": true
   },
   "outputs": [
    {
     "data": {
      "image/png": "[encoded data removed]",
      "text/plain": [
       "<Figure size 432x288 with 1 Axes>"
      ]
     },
     "metadata": {
      "needs_background": "light"
     },
     "output_type": "display_data"
    }
   ],
   "source": [
    "sp = sns.scatterplot(x=df['mealpct'], y=df['testscr'],alpha=0.6,color='blue')\n",
    "plt.xlabel('reduced-price lunch percentage')\n",
    "plt.ylabel('test score')\n",
    "plt.title('scatter plot of meal percentage and test score')\n",
    "plt.show()"
   ]
  },
  {
   "cell_type": "markdown",
   "metadata": {},
   "source": [
    "#### district average income and test score"
   ]
  },
  {
   "cell_type": "code",
   "execution_count": 32,
   "metadata": {
    "scrolled": true
   },
   "outputs": [
    {
     "data": {
      "image/png": "[encoded data removed]",
      "text/plain": [
       "<Figure size 432x288 with 1 Axes>"
      ]
     },
     "metadata": {
      "needs_background": "light"
     },
     "output_type": "display_data"
    }
   ],
   "source": [
    "sp = sns.scatterplot(x=df['avginc'], y=df['testscr'],alpha=0.6,color='blue')\n",
    "plt.xlabel('district average income')\n",
    "plt.ylabel('test score')\n",
    "plt.title('scatter plot of district average income and test score')\n",
    "plt.show()"
   ]
  },
  {
   "cell_type": "markdown",
   "metadata": {},
   "source": [
    "### 1.3 Split data in training and test set. Build models that evaluate the relationship between all available X variables in the California test dataset and the target variable. Evaluate KNN for regression, Linear Regression (OLS), Ridge, and Lasso using cross-validation with the default parameters. Does scaling the data with the StandardScaler help?"
   ]
  },
  {
   "cell_type": "markdown",
   "metadata": {},
   "source": [
    "#### split data"
   ]
  },
  {
   "cell_type": "code",
   "execution_count": 115,
   "metadata": {},
   "outputs": [],
   "source": [
    "X = df.drop(['testscr'], axis=1)\n",
    "y = df.loc[:,'testscr']\n",
    "from sklearn.model_selection import train_test_split\n",
    "X_train,X_test,y_train,y_test=train_test_split(X,y,random_state=42)"
   ]
  },
  {
   "cell_type": "code",
   "execution_count": 59,
   "metadata": {},
   "outputs": [],
   "source": [
    "#avoid warnings\n",
    "# import warnings filter\n",
    "from warnings import simplefilter\n",
    "# ignore all future warnings\n",
    "simplefilter(action='ignore', category=FutureWarning)"
   ]
  },
  {
   "cell_type": "markdown",
   "metadata": {},
   "source": [
    "#### KNN for regression"
   ]
  },
  {
   "cell_type": "code",
   "execution_count": 60,
   "metadata": {},
   "outputs": [
    {
     "data": {
      "text/plain": [
       "-0.13505115825046543"
      ]
     },
     "execution_count": 60,
     "metadata": {},
     "output_type": "execute_result"
    }
   ],
   "source": [
    "from sklearn.neighbors import KNeighborsRegressor\n",
    "knn = KNeighborsRegressor().fit(X_train, y_train)\n",
    "\n",
    "#cv\n",
    "from sklearn.model_selection import cross_val_score\n",
    "cross_val_score(KNeighborsRegressor(), X_train, y_train).mean()"
   ]
  },
  {
   "cell_type": "markdown",
   "metadata": {},
   "source": [
    "#### Linear Regression (OLS)"
   ]
  },
  {
   "cell_type": "code",
   "execution_count": 61,
   "metadata": {
    "scrolled": true
   },
   "outputs": [
    {
     "name": "stdout",
     "output_type": "stream",
     "text": [
      "lr.coef_: [-1.70462259e-04  2.41247060e-04 -1.03033331e-02 -1.18275084e-01\n",
      " -3.61074234e-01  2.45241913e-03 -2.18984104e+00  1.92827832e-03\n",
      " -3.86035232e-01  5.19720659e-01 -1.96553184e-01]\n",
      "lr.intercept_: 675.843551429522\n",
      "Cross Validation score: 0.77\n"
     ]
    }
   ],
   "source": [
    "from sklearn.linear_model import LinearRegression\n",
    "lr=LinearRegression().fit(X_train, y_train)\n",
    "print(\"lr.coef_: {}\".format(lr.coef_))\n",
    "print(\"lr.intercept_: {}\".format(lr.intercept_))\n",
    "\n",
    "#cv\n",
    "print(\"Cross Validation score: {:.2f}\".format(cross_val_score(LinearRegression(), X_train, y_train).mean()))"
   ]
  },
  {
   "cell_type": "markdown",
   "metadata": {},
   "source": [
    "#### Ridge "
   ]
  },
  {
   "cell_type": "code",
   "execution_count": 62,
   "metadata": {},
   "outputs": [
    {
     "name": "stdout",
     "output_type": "stream",
     "text": [
      "Training set score: 0.81\n",
      "Test set score: 0.80\n",
      "ridge.coef_: [-1.69321493e-04  2.11884091e-04 -9.23649776e-03 -1.17298244e-01\n",
      " -3.61600983e-01  2.25764563e-03 -1.03008705e+00  1.91230161e-03\n",
      " -3.76670293e-01  5.19077851e-01 -1.95788894e-01]\n",
      "Cross Validation score: 0.77\n"
     ]
    }
   ],
   "source": [
    "from sklearn.linear_model import Ridge\n",
    "ridge=Ridge().fit(X_train,y_train)\n",
    "print(\"Training set score: {:.2f}\".format(ridge.score(X_train, y_train)))\n",
    "print(\"Test set score: {:.2f}\".format(ridge.score(X_test, y_test)))\n",
    "print(\"ridge.coef_: {}\".format(ridge.coef_))\n",
    "\n",
    "#cv\n",
    "print(\"Cross Validation score: {:.2f}\".format(cross_val_score(Ridge(), X_train, y_train).mean()))"
   ]
  },
  {
   "cell_type": "markdown",
   "metadata": {},
   "source": [
    "#### Lasso"
   ]
  },
  {
   "cell_type": "code",
   "execution_count": 63,
   "metadata": {
    "scrolled": true
   },
   "outputs": [
    {
     "name": "stdout",
     "output_type": "stream",
     "text": [
      "Training set score: 0.81\n",
      "Test set score: 0.80\n",
      "Number of features used: 9\n",
      "lasso.coef_: [-1.58542537e-04 -3.86049765e-04  2.99467413e-03 -1.00625116e-01\n",
      " -3.77114307e-01  2.00266583e-03 -0.00000000e+00  2.54123082e-03\n",
      " -0.00000000e+00  4.83830360e-01 -1.85390813e-01]\n",
      "Cross Validation score: 0.78\n"
     ]
    },
    {
     "name": "stderr",
     "output_type": "stream",
     "text": [
      "/Users/liyidan/opt/anaconda3/lib/python3.7/site-packages/sklearn/linear_model/coordinate_descent.py:475: ConvergenceWarning: Objective did not converge. You might want to increase the number of iterations. Duality gap: 60.53876346228208, tolerance: 10.135477633342425\n",
      "  positive)\n",
      "/Users/liyidan/opt/anaconda3/lib/python3.7/site-packages/sklearn/linear_model/coordinate_descent.py:475: ConvergenceWarning: Objective did not converge. You might want to increase the number of iterations. Duality gap: 115.63531307454832, tolerance: 6.835283604888848\n",
      "  positive)\n",
      "/Users/liyidan/opt/anaconda3/lib/python3.7/site-packages/sklearn/linear_model/coordinate_descent.py:475: ConvergenceWarning: Objective did not converge. You might want to increase the number of iterations. Duality gap: 3475.001547921963, tolerance: 6.7078127114330615\n",
      "  positive)\n"
     ]
    }
   ],
   "source": [
    "from sklearn.linear_model import Lasso\n",
    "lasso=Lasso().fit(X_train,y_train)\n",
    "print(\"Training set score: {:.2f}\".format(lasso.score(X_train, y_train)))\n",
    "print(\"Test set score: {:.2f}\".format(lasso.score(X_test, y_test)))\n",
    "print(\"Number of features used: {}\".format(np.sum(lasso.coef_ != 0)))\n",
    "print(\"lasso.coef_: {}\".format(lasso.coef_))\n",
    "\n",
    "#cv\n",
    "print(\"Cross Validation score: {:.2f}\".format(cross_val_score(Lasso(), X_train, y_train).mean()))"
   ]
  },
  {
   "cell_type": "markdown",
   "metadata": {},
   "source": [
    "#### Does scaling the data with the StandardScaler help?"
   ]
  },
  {
   "cell_type": "markdown",
   "metadata": {},
   "source": [
    "Scaling the data"
   ]
  },
  {
   "cell_type": "code",
   "execution_count": 117,
   "metadata": {},
   "outputs": [],
   "source": [
    "from sklearn import preprocessing\n",
    "scaler = preprocessing.StandardScaler()\n",
    "scaler.fit(X_train)\n",
    "X_train_scaled = scaler.transform(X_train)\n",
    "X_test_scaled = scaler.transform(X_test)"
   ]
  },
  {
   "cell_type": "markdown",
   "metadata": {},
   "source": [
    "#### KNN for Regression on Scaled data"
   ]
  },
  {
   "cell_type": "code",
   "execution_count": 118,
   "metadata": {},
   "outputs": [
    {
     "data": {
      "text/plain": [
       "0.6854675021658533"
      ]
     },
     "execution_count": 118,
     "metadata": {},
     "output_type": "execute_result"
    }
   ],
   "source": [
    "from sklearn.neighbors import KNeighborsRegressor\n",
    "knn = KNeighborsRegressor().fit(X_train_scaled, y_train)\n",
    "\n",
    "#cv\n",
    "from sklearn.model_selection import cross_val_score\n",
    "cross_val_score(KNeighborsRegressor(), X_train_scaled, y_train).mean()"
   ]
  },
  {
   "cell_type": "markdown",
   "metadata": {},
   "source": [
    "#### Linear Regression (OLS) on Scaled data"
   ]
  },
  {
   "cell_type": "code",
   "execution_count": 66,
   "metadata": {},
   "outputs": [
    {
     "name": "stdout",
     "output_type": "stream",
     "text": [
      "lr.coef_: [-0.59635883  1.00716914 -2.06009821 -1.32013716 -9.70768955  1.14073002\n",
      " -0.14168279  1.18787443 -0.71109365  3.7378696  -3.46245587]\n",
      "lr.intercept_: 654.2720646933902\n",
      "Cross Validation score: 0.77\n"
     ]
    }
   ],
   "source": [
    "from sklearn.linear_model import LinearRegression\n",
    "lr=LinearRegression().fit(X_train_scaled, y_train)\n",
    "print(\"lr.coef_: {}\".format(lr.coef_))\n",
    "print(\"lr.intercept_: {}\".format(lr.intercept_))\n",
    "\n",
    "#cv\n",
    "print(\"Cross Validation score: {:.2f}\".format(cross_val_score(LinearRegression(), X_train_scaled, y_train).mean()))"
   ]
  },
  {
   "cell_type": "markdown",
   "metadata": {},
   "source": [
    "#### Ridge on Scaled Data"
   ]
  },
  {
   "cell_type": "code",
   "execution_count": 67,
   "metadata": {},
   "outputs": [
    {
     "name": "stdout",
     "output_type": "stream",
     "text": [
      "Training set score: 0.81\n",
      "Test set score: 0.80\n",
      "ridge.coef_: [-0.59521249  0.04607644 -1.00088006 -1.38744984 -9.59006603  1.03502879\n",
      " -0.12383222  1.19113891 -0.66989081  3.75629075 -3.50555405]\n",
      "Cross Validation score: 0.78\n"
     ]
    }
   ],
   "source": [
    "from sklearn.linear_model import Ridge\n",
    "ridge=Ridge().fit(X_train_scaled,y_train)\n",
    "print(\"Training set score: {:.2f}\".format(ridge.score(X_train_scaled, y_train)))\n",
    "print(\"Test set score: {:.2f}\".format(ridge.score(X_test_scaled, y_test)))\n",
    "print(\"ridge.coef_: {}\".format(ridge.coef_))\n",
    "\n",
    "#cv\n",
    "print(\"Cross Validation score: {:.2f}\".format(cross_val_score(Ridge(), X_train_scaled, y_train).mean()))"
   ]
  },
  {
   "cell_type": "markdown",
   "metadata": {},
   "source": [
    "#### Lasso on Scaled Data"
   ]
  },
  {
   "cell_type": "code",
   "execution_count": 68,
   "metadata": {},
   "outputs": [
    {
     "name": "stdout",
     "output_type": "stream",
     "text": [
      "Training set score: 0.80\n",
      "Test set score: 0.79\n",
      "Number of features used: 5\n",
      "lasso.coef_: [ -0.          -0.          -0.          -0.         -10.63994934\n",
      "  -0.           0.           0.45852217  -0.22704338   3.32363837\n",
      "  -2.5568067 ]\n",
      "Cross Validation score: 0.78\n"
     ]
    }
   ],
   "source": [
    "from sklearn.linear_model import Lasso\n",
    "lasso=Lasso().fit(X_train_scaled,y_train)\n",
    "print(\"Training set score: {:.2f}\".format(lasso.score(X_train_scaled, y_train)))\n",
    "print(\"Test set score: {:.2f}\".format(lasso.score(X_test_scaled, y_test)))\n",
    "print(\"Number of features used: {}\".format(np.sum(lasso.coef_ != 0)))\n",
    "print(\"lasso.coef_: {}\".format(lasso.coef_))\n",
    "\n",
    "#cv\n",
    "print(\"Cross Validation score: {:.2f}\".format(cross_val_score(Lasso(), X_train_scaled, y_train).mean()))"
   ]
  },
  {
   "cell_type": "markdown",
   "metadata": {},
   "source": [
    "#### Does scaling the data with the StandardScaler help?\n",
    "The effect of scaling is significant for knn, and is helpful for ridge, but not for lasso and ols."
   ]
  },
  {
   "cell_type": "markdown",
   "metadata": {},
   "source": [
    "### 1.4 Tune the parameters of the models where possible using GridSearchCV. Do the results improve?"
   ]
  },
  {
   "cell_type": "markdown",
   "metadata": {},
   "source": [
    "#### KNN for Regression with Scaled Data and GridSearchCV"
   ]
  },
  {
   "cell_type": "code",
   "execution_count": 69,
   "metadata": {},
   "outputs": [
    {
     "name": "stdout",
     "output_type": "stream",
     "text": [
      "best mean cross-validation score: 0.709\n",
      "best parameters: {'n_neighbors': 11}\n",
      "test-set score: 0.734\n"
     ]
    },
    {
     "name": "stderr",
     "output_type": "stream",
     "text": [
      "/Users/liyidan/opt/anaconda3/lib/python3.7/site-packages/sklearn/model_selection/_search.py:814: DeprecationWarning: The default of the `iid` parameter will change from True to False in version 0.22 and will be removed in 0.24. This will change numeric results when test-set sizes are unequal.\n",
      "  DeprecationWarning)\n"
     ]
    }
   ],
   "source": [
    "from sklearn.model_selection import GridSearchCV\n",
    "from sklearn.neighbors import KNeighborsRegressor\n",
    "param_grid = {'n_neighbors': np.arange(1, 15, 2)}\n",
    "grid = GridSearchCV(KNeighborsRegressor(), param_grid=param_grid, cv=10)\n",
    "grid.fit(X_train_scaled, y_train)\n",
    "print(\"best mean cross-validation score: {:.3f}\".format(grid.best_score_))\n",
    "print(\"best parameters: {}\".format(grid.best_params_))\n",
    "print(\"test-set score: {:.3f}\".format(grid.score(X_test_scaled, y_test)))"
   ]
  },
  {
   "cell_type": "markdown",
   "metadata": {},
   "source": [
    "#### Ridge with Scaled Data and GridSearchCV"
   ]
  },
  {
   "cell_type": "code",
   "execution_count": 70,
   "metadata": {},
   "outputs": [
    {
     "name": "stdout",
     "output_type": "stream",
     "text": [
      "best mean cross-validation score: 0.784\n",
      "best parameters: {'alpha': 10}\n",
      "test-set score: 0.797\n"
     ]
    }
   ],
   "source": [
    "from sklearn.model_selection import GridSearchCV\n",
    "from sklearn.linear_model import Ridge\n",
    "param_grid = {'alpha': [0.01,0.1,1,10,100]}\n",
    "grid = GridSearchCV(Ridge(), param_grid=param_grid, cv=10)\n",
    "grid.fit(X_train_scaled, y_train)\n",
    "print(\"best mean cross-validation score: {:.3f}\".format(grid.best_score_))\n",
    "print(\"best parameters: {}\".format(grid.best_params_))\n",
    "print(\"test-set score: {:.3f}\".format(grid.score(X_test_scaled, y_test)))"
   ]
  },
  {
   "cell_type": "markdown",
   "metadata": {},
   "source": [
    "#### Lasso with Scaled Data and GridSearchCV"
   ]
  },
  {
   "cell_type": "code",
   "execution_count": 71,
   "metadata": {},
   "outputs": [
    {
     "name": "stdout",
     "output_type": "stream",
     "text": [
      "best mean cross-validation score: 0.784\n",
      "best parameters: {'alpha': 0.1, 'max_iter': 1000}\n",
      "test-set score: 0.800\n"
     ]
    },
    {
     "name": "stderr",
     "output_type": "stream",
     "text": [
      "/Users/liyidan/opt/anaconda3/lib/python3.7/site-packages/sklearn/model_selection/_search.py:814: DeprecationWarning: The default of the `iid` parameter will change from True to False in version 0.22 and will be removed in 0.24. This will change numeric results when test-set sizes are unequal.\n",
      "  DeprecationWarning)\n"
     ]
    }
   ],
   "source": [
    "from sklearn.model_selection import GridSearchCV\n",
    "from sklearn.linear_model import Lasso\n",
    "param_grid = {'alpha': [0.01,0.1,1,10,100],'max_iter': [1000,10000,100000]}\n",
    "grid = GridSearchCV(Lasso(), param_grid=param_grid, cv=10)\n",
    "grid.fit(X_train_scaled, y_train)\n",
    "print(\"best mean cross-validation score: {:.3f}\".format(grid.best_score_))\n",
    "print(\"best parameters: {}\".format(grid.best_params_))\n",
    "print(\"test-set score: {:.3f}\".format(grid.score(X_test_scaled, y_test)))"
   ]
  },
  {
   "cell_type": "markdown",
   "metadata": {},
   "source": [
    "#### Do the results improve?\n",
    "Yes, the results improved for all 3 models and knn improved most."
   ]
  },
  {
   "cell_type": "markdown",
   "metadata": {},
   "source": [
    "### 1.5 Compare the coefficients of your two best linear models (not knn), do they agree on which features are important?\n",
    "\n"
   ]
  },
  {
   "cell_type": "markdown",
   "metadata": {},
   "source": [
    "#### model 1: Ridge, alpha=10"
   ]
  },
  {
   "cell_type": "code",
   "execution_count": 72,
   "metadata": {},
   "outputs": [
    {
     "name": "stdout",
     "output_type": "stream",
     "text": [
      "ridge.coef_: [-0.58500687 -0.33048107 -0.38327094 -1.77593768 -8.76381574  0.81400225\n",
      " -0.0727236   1.14818731 -0.66275012  3.92668513 -3.78341576]\n"
     ]
    }
   ],
   "source": [
    "from sklearn.linear_model import Ridge\n",
    "ridge=Ridge(alpha=10).fit(X_train_scaled, y_train)\n",
    "print(\"ridge.coef_: {}\".format(ridge.coef_))"
   ]
  },
  {
   "cell_type": "markdown",
   "metadata": {},
   "source": [
    "#### model 2: Lasso, alpha=0.1, max_iter=1000"
   ]
  },
  {
   "cell_type": "code",
   "execution_count": 73,
   "metadata": {},
   "outputs": [
    {
     "name": "stdout",
     "output_type": "stream",
     "text": [
      "lasso.coef_: [-0.45310488 -0.         -0.         -1.12528272 -9.88263462  0.\n",
      "  0.          1.09836735 -0.60534042  3.71140296 -3.33943472]\n"
     ]
    }
   ],
   "source": [
    "from sklearn.linear_model import Lasso\n",
    "lasso=Lasso(alpha=0.1,max_iter=1000).fit(X_train_scaled, y_train)\n",
    "print(\"lasso.coef_: {}\".format(lasso.coef_))"
   ]
  },
  {
   "cell_type": "markdown",
   "metadata": {},
   "source": [
    "#### Do they agree on which features are important?\n",
    "Not quite. Lasso removed enrltot, teachers, computer, compstu while Ridge only gave compstu a small weight but variables enrltot, teachers, computer still have impact on the model."
   ]
  },
  {
   "cell_type": "markdown",
   "metadata": {},
   "source": [
    "### 1.6 Discuss which final model you would choose to predict new data"
   ]
  },
  {
   "cell_type": "markdown",
   "metadata": {},
   "source": [
    "I would choose lasso with alpha=0.1 and max_iter=1000. Because it has the same accuracy from cross validation while having less variables included, meaning that it's a more compact model."
   ]
  },
  {
   "cell_type": "markdown",
   "metadata": {},
   "source": [
    "## Part 2: Classification on red and white wine characteristics"
   ]
  },
  {
   "cell_type": "code",
   "execution_count": 74,
   "metadata": {},
   "outputs": [
    {
     "data": {
      "text/html": [
       "<div>\n",
       "<style scoped>\n",
       "    .dataframe tbody tr th:only-of-type {\n",
       "        vertical-align: middle;\n",
       "    }\n",
       "\n",
       "    .dataframe tbody tr th {\n",
       "        vertical-align: top;\n",
       "    }\n",
       "\n",
       "    .dataframe thead th {\n",
       "        text-align: right;\n",
       "    }\n",
       "</style>\n",
       "<table border=\"1\" class=\"dataframe\">\n",
       "  <thead>\n",
       "    <tr style=\"text-align: right;\">\n",
       "      <th></th>\n",
       "      <th>fixed acidity</th>\n",
       "      <th>volatile acidity</th>\n",
       "      <th>citric acid</th>\n",
       "      <th>residual sugar</th>\n",
       "      <th>chlorides</th>\n",
       "      <th>free sulfur dioxide</th>\n",
       "      <th>total sulfur dioxide</th>\n",
       "      <th>density</th>\n",
       "      <th>pH</th>\n",
       "      <th>sulphates</th>\n",
       "      <th>alcohol</th>\n",
       "      <th>quality</th>\n",
       "      <th>winetype</th>\n",
       "    </tr>\n",
       "  </thead>\n",
       "  <tbody>\n",
       "    <tr>\n",
       "      <td>0</td>\n",
       "      <td>7.0</td>\n",
       "      <td>0.27</td>\n",
       "      <td>0.36</td>\n",
       "      <td>20.7</td>\n",
       "      <td>0.045</td>\n",
       "      <td>45.0</td>\n",
       "      <td>170.0</td>\n",
       "      <td>1.0010</td>\n",
       "      <td>3.00</td>\n",
       "      <td>0.45</td>\n",
       "      <td>8.8</td>\n",
       "      <td>6</td>\n",
       "      <td>0</td>\n",
       "    </tr>\n",
       "    <tr>\n",
       "      <td>1</td>\n",
       "      <td>6.3</td>\n",
       "      <td>0.30</td>\n",
       "      <td>0.34</td>\n",
       "      <td>1.6</td>\n",
       "      <td>0.049</td>\n",
       "      <td>14.0</td>\n",
       "      <td>132.0</td>\n",
       "      <td>0.9940</td>\n",
       "      <td>3.30</td>\n",
       "      <td>0.49</td>\n",
       "      <td>9.5</td>\n",
       "      <td>6</td>\n",
       "      <td>0</td>\n",
       "    </tr>\n",
       "    <tr>\n",
       "      <td>2</td>\n",
       "      <td>8.1</td>\n",
       "      <td>0.28</td>\n",
       "      <td>0.40</td>\n",
       "      <td>6.9</td>\n",
       "      <td>0.050</td>\n",
       "      <td>30.0</td>\n",
       "      <td>97.0</td>\n",
       "      <td>0.9951</td>\n",
       "      <td>3.26</td>\n",
       "      <td>0.44</td>\n",
       "      <td>10.1</td>\n",
       "      <td>6</td>\n",
       "      <td>0</td>\n",
       "    </tr>\n",
       "    <tr>\n",
       "      <td>3</td>\n",
       "      <td>7.2</td>\n",
       "      <td>0.23</td>\n",
       "      <td>0.32</td>\n",
       "      <td>8.5</td>\n",
       "      <td>0.058</td>\n",
       "      <td>47.0</td>\n",
       "      <td>186.0</td>\n",
       "      <td>0.9956</td>\n",
       "      <td>3.19</td>\n",
       "      <td>0.40</td>\n",
       "      <td>9.9</td>\n",
       "      <td>6</td>\n",
       "      <td>0</td>\n",
       "    </tr>\n",
       "    <tr>\n",
       "      <td>4</td>\n",
       "      <td>7.2</td>\n",
       "      <td>0.23</td>\n",
       "      <td>0.32</td>\n",
       "      <td>8.5</td>\n",
       "      <td>0.058</td>\n",
       "      <td>47.0</td>\n",
       "      <td>186.0</td>\n",
       "      <td>0.9956</td>\n",
       "      <td>3.19</td>\n",
       "      <td>0.40</td>\n",
       "      <td>9.9</td>\n",
       "      <td>6</td>\n",
       "      <td>0</td>\n",
       "    </tr>\n",
       "  </tbody>\n",
       "</table>\n",
       "</div>"
      ],
      "text/plain": [
       "   fixed acidity  volatile acidity  citric acid  residual sugar  chlorides  \\\n",
       "0            7.0              0.27         0.36            20.7      0.045   \n",
       "1            6.3              0.30         0.34             1.6      0.049   \n",
       "2            8.1              0.28         0.40             6.9      0.050   \n",
       "3            7.2              0.23         0.32             8.5      0.058   \n",
       "4            7.2              0.23         0.32             8.5      0.058   \n",
       "\n",
       "   free sulfur dioxide  total sulfur dioxide  density    pH  sulphates  \\\n",
       "0                 45.0                 170.0   1.0010  3.00       0.45   \n",
       "1                 14.0                 132.0   0.9940  3.30       0.49   \n",
       "2                 30.0                  97.0   0.9951  3.26       0.44   \n",
       "3                 47.0                 186.0   0.9956  3.19       0.40   \n",
       "4                 47.0                 186.0   0.9956  3.19       0.40   \n",
       "\n",
       "   alcohol  quality  winetype  \n",
       "0      8.8        6         0  \n",
       "1      9.5        6         0  \n",
       "2     10.1        6         0  \n",
       "3      9.9        6         0  \n",
       "4      9.9        6         0  "
      ]
     },
     "execution_count": 74,
     "metadata": {},
     "output_type": "execute_result"
    }
   ],
   "source": [
    "import os\n",
    "os.chdir('/Users/liyidan/desktop/QMSS ML/HW2') \n",
    "white=pd.read_csv(\"winequality-white.csv\",sep=';')\n",
    "red=pd.read_csv(\"winequality-red.csv\",sep=';')\n",
    "white['winetype'] = 0\n",
    "red['winetype'] =1\n",
    "wine=pd.concat([white,red])\n",
    "wine.head(5)"
   ]
  },
  {
   "cell_type": "markdown",
   "metadata": {},
   "source": [
    "### 2.1 Visualize the univariate distribution of the target feature and each of the three explanatory variables that you think are likely to have a relationship with the target feature.   "
   ]
  },
  {
   "cell_type": "markdown",
   "metadata": {},
   "source": [
    "#### Distribution of wine type"
   ]
  },
  {
   "cell_type": "code",
   "execution_count": 75,
   "metadata": {},
   "outputs": [
    {
     "data": {
      "image/png": "[encoded data removed]",
      "text/plain": [
       "<Figure size 432x288 with 1 Axes>"
      ]
     },
     "metadata": {
      "needs_background": "light"
     },
     "output_type": "display_data"
    }
   ],
   "source": [
    "sns.distplot(wine['winetype'], kde=False,color = 'darkblue', \n",
    "             hist_kws={'edgecolor':'black'})\n",
    "plt.xlabel('wine type')\n",
    "plt.ylabel('count')\n",
    "plt.title('Distribution of wine type')\n",
    "plt.show()"
   ]
  },
  {
   "cell_type": "markdown",
   "metadata": {},
   "source": [
    "#### Distribution of fixed acidity"
   ]
  },
  {
   "cell_type": "code",
   "execution_count": 76,
   "metadata": {},
   "outputs": [
    {
     "data": {
      "image/png": "[encoded data removed]",
      "text/plain": [
       "<Figure size 432x288 with 1 Axes>"
      ]
     },
     "metadata": {
      "needs_background": "light"
     },
     "output_type": "display_data"
    }
   ],
   "source": [
    "sns.distplot(wine['fixed acidity'], hist=True, kde=True, \n",
    "             bins=15, color = 'darkblue', \n",
    "             hist_kws={'edgecolor':'black'},\n",
    "             kde_kws={'linewidth': 3})\n",
    "\n",
    "plt.xlabel('district average income')\n",
    "plt.ylabel('count')\n",
    "plt.title('Histogram and density plot of fixed acidity')\n",
    "plt.show()"
   ]
  },
  {
   "cell_type": "markdown",
   "metadata": {},
   "source": [
    "#### Distribution of chlorides"
   ]
  },
  {
   "cell_type": "code",
   "execution_count": 77,
   "metadata": {},
   "outputs": [
    {
     "data": {
      "image/png": "[encoded data removed]",
      "text/plain": [
       "<Figure size 432x288 with 1 Axes>"
      ]
     },
     "metadata": {
      "needs_background": "light"
     },
     "output_type": "display_data"
    }
   ],
   "source": [
    "sns.distplot(wine['chlorides'], hist=True, kde=True, \n",
    "             bins=10, color = 'darkblue', \n",
    "             hist_kws={'edgecolor':'black'},\n",
    "             kde_kws={'linewidth': 3})\n",
    "\n",
    "plt.xlabel('chlorides')\n",
    "plt.ylabel('count')\n",
    "plt.title('Histogram and density plot of fixed acidity')\n",
    "plt.show()"
   ]
  },
  {
   "cell_type": "markdown",
   "metadata": {},
   "source": [
    "#### Distribution of pH"
   ]
  },
  {
   "cell_type": "code",
   "execution_count": 78,
   "metadata": {},
   "outputs": [
    {
     "data": {
      "image/png": "[encoded data removed]",
      "text/plain": [
       "<Figure size 432x288 with 1 Axes>"
      ]
     },
     "metadata": {
      "needs_background": "light"
     },
     "output_type": "display_data"
    }
   ],
   "source": [
    "sns.distplot(wine['pH'], hist=True, kde=True, \n",
    "             bins=15, color = 'darkblue', \n",
    "             hist_kws={'edgecolor':'black'},\n",
    "             kde_kws={'linewidth': 3})\n",
    "\n",
    "plt.xlabel('pH')\n",
    "plt.ylabel('count')\n",
    "plt.title('Histogram and density plot of pH')\n",
    "plt.show()"
   ]
  },
  {
   "cell_type": "markdown",
   "metadata": {},
   "source": [
    "#### fixed acidity across wine types"
   ]
  },
  {
   "cell_type": "code",
   "execution_count": 79,
   "metadata": {},
   "outputs": [
    {
     "data": {
      "image/png": "[encoded data removed]",
      "text/plain": [
       "<Figure size 432x288 with 1 Axes>"
      ]
     },
     "metadata": {
      "needs_background": "light"
     },
     "output_type": "display_data"
    }
   ],
   "source": [
    "bp = sns.boxplot(x=\"winetype\", y=\"fixed acidity\", data=wine)\n",
    "plt.xlabel('wine type')\n",
    "plt.ylabel('fixed acidity')\n",
    "plt.title('boxplot of wine type and fixed acidity')\n",
    "plt.show()"
   ]
  },
  {
   "cell_type": "markdown",
   "metadata": {},
   "source": [
    "#### chlorides across wine types"
   ]
  },
  {
   "cell_type": "code",
   "execution_count": 80,
   "metadata": {},
   "outputs": [
    {
     "data": {
      "image/png": "[encoded data removed]",
      "text/plain": [
       "<Figure size 432x288 with 1 Axes>"
      ]
     },
     "metadata": {
      "needs_background": "light"
     },
     "output_type": "display_data"
    }
   ],
   "source": [
    "bp = sns.boxplot(x=\"winetype\", y=\"chlorides\", data=wine)\n",
    "plt.xlabel('wine type')\n",
    "plt.ylabel('chloridesy')\n",
    "plt.title('boxplot of wine type and chlorides')\n",
    "plt.show()"
   ]
  },
  {
   "cell_type": "markdown",
   "metadata": {},
   "source": [
    "#### pH across wine types"
   ]
  },
  {
   "cell_type": "code",
   "execution_count": 81,
   "metadata": {},
   "outputs": [
    {
     "data": {
      "image/png": "[encoded data removed]",
      "text/plain": [
       "<Figure size 432x288 with 1 Axes>"
      ]
     },
     "metadata": {
      "needs_background": "light"
     },
     "output_type": "display_data"
    }
   ],
   "source": [
    "bp = sns.boxplot(x=\"winetype\", y=\"pH\", data=wine)\n",
    "plt.xlabel('wine type')\n",
    "plt.ylabel('pH')\n",
    "plt.title('boxplot of wine type and pH')\n",
    "plt.show()"
   ]
  },
  {
   "cell_type": "markdown",
   "metadata": {},
   "source": [
    "### 2.2 Split data into training and test set. Build models that evaluate the relationship between all available X variables in the dataset and the target variable. Evaluate Logistic Regression, Penalized Logistic Regression, and KNN for classification using cross-validation. How different are the results? How does scaling the data with StandardScaler influence the results?"
   ]
  },
  {
   "cell_type": "markdown",
   "metadata": {},
   "source": [
    "#### split data"
   ]
  },
  {
   "cell_type": "code",
   "execution_count": 82,
   "metadata": {},
   "outputs": [],
   "source": [
    "X = wine.drop(['winetype'], axis=1)\n",
    "y = wine.loc[:,'winetype']\n",
    "from sklearn.model_selection import train_test_split\n",
    "X_train,X_test,y_train,y_test=train_test_split(X,y,random_state=42)"
   ]
  },
  {
   "cell_type": "markdown",
   "metadata": {},
   "source": [
    "#### logistic regression"
   ]
  },
  {
   "cell_type": "code",
   "execution_count": 83,
   "metadata": {},
   "outputs": [
    {
     "name": "stdout",
     "output_type": "stream",
     "text": [
      "logreg .coef_: [[ 0.68344872  8.139135   -0.88764864 -0.14745031  2.35939363  0.05149144\n",
      "  -0.06411727 -3.09594885  2.36848977  6.13790089 -0.74951693 -0.1373309 ]]\n",
      "Training set score: 0.983\n",
      "Test set score: 0.977\n",
      "Cross Validation score: 0.9815278474119701\n"
     ]
    }
   ],
   "source": [
    "from sklearn.linear_model import LogisticRegression\n",
    "logreg = LogisticRegression().fit(X_train, y_train) \n",
    "\n",
    "from sklearn.model_selection import cross_val_score\n",
    "print(\"logreg .coef_: {}\".format(logreg .coef_))\n",
    "print(\"Training set score: {:.3f}\".format(logreg.score(X_train, y_train)))\n",
    "print(\"Test set score: {:.3f}\".format(logreg.score(X_test, y_test)))\n",
    "\n",
    "#cv\n",
    "from sklearn.model_selection import cross_val_score\n",
    "print(\"Cross Validation score: {}\".format(cross_val_score(LogisticRegression(),X_train,y_train).mean()))"
   ]
  },
  {
   "cell_type": "markdown",
   "metadata": {},
   "source": [
    "#### penalized logistic regression"
   ]
  },
  {
   "cell_type": "code",
   "execution_count": 84,
   "metadata": {},
   "outputs": [
    {
     "name": "stdout",
     "output_type": "stream",
     "text": [
      "logreg .coef_: [[ 0.91351569 11.47322705  0.         -0.12565319 15.1722649   0.05932942\n",
      "  -0.0666706  -9.00192895  4.74766114  8.37517848 -0.61422477 -0.04827907]]\n",
      "Training set score: 0.988\n",
      "Test set score: 0.985\n",
      "Cross Validation score: 0.985222429626662\n"
     ]
    }
   ],
   "source": [
    "#with l1 penalty\n",
    "from sklearn.linear_model import LogisticRegression\n",
    "logreg_l1 = LogisticRegression(penalty='l1').fit(X_train, y_train) \n",
    "print(\"logreg .coef_: {}\".format(logreg_l1.coef_))\n",
    "print(\"Training set score: {:.3f}\".format(logreg_l1.score(X_train, y_train)))\n",
    "print(\"Test set score: {:.3f}\".format(logreg_l1.score(X_test, y_test)))\n",
    "\n",
    "#cv\n",
    "from sklearn.model_selection import cross_val_score\n",
    "print(\"Cross Validation score: {}\".format(cross_val_score(LogisticRegression(penalty='l1'),X_train,y_train).mean()))"
   ]
  },
  {
   "cell_type": "markdown",
   "metadata": {},
   "source": [
    "#### knn"
   ]
  },
  {
   "cell_type": "code",
   "execution_count": 85,
   "metadata": {},
   "outputs": [
    {
     "name": "stdout",
     "output_type": "stream",
     "text": [
      "Training set score: 0.958\n",
      "Test set score: 0.936\n",
      "Cross Validation score: 0.9373987478375265\n"
     ]
    }
   ],
   "source": [
    "from sklearn.neighbors import KNeighborsClassifier\n",
    "knn = KNeighborsClassifier().fit(X_train, y_train)\n",
    "print(\"Training set score: {:.3f}\".format(knn.score(X_train, y_train)))\n",
    "print(\"Test set score: {:.3f}\".format(knn.score(X_test, y_test)))\n",
    "\n",
    "#cv\n",
    "from sklearn.model_selection import cross_val_score\n",
    "print(\"Cross Validation score: {}\".format(cross_val_score(KNeighborsClassifier(),X_train,y_train).mean()))"
   ]
  },
  {
   "cell_type": "markdown",
   "metadata": {},
   "source": [
    "#### How different are the results?\n",
    "Among the models above, penalized logistic regression has the best performance based on accuracy, the second is logistic regression and the last one is knn."
   ]
  },
  {
   "cell_type": "markdown",
   "metadata": {},
   "source": [
    "#### scaling the data"
   ]
  },
  {
   "cell_type": "code",
   "execution_count": 86,
   "metadata": {},
   "outputs": [],
   "source": [
    "from sklearn import preprocessing\n",
    "scaler = preprocessing.StandardScaler()\n",
    "scaler.fit(X_train)\n",
    "X_train_scaled = scaler.transform(X_train)\n",
    "X_test_scaled = scaler.transform(X_test)"
   ]
  },
  {
   "cell_type": "code",
   "execution_count": 87,
   "metadata": {},
   "outputs": [
    {
     "name": "stdout",
     "output_type": "stream",
     "text": [
      "logreg .coef_: [[ 0.2804866   1.22466779 -0.3620574  -3.29074973  0.75132094  0.92718852\n",
      "  -2.85285884  3.55492351  0.25562098  0.58835542  1.22168097  0.18202624]]\n",
      "Training set score: 0.994\n",
      "Test set score: 0.992\n",
      "Cross Validation score: 0.9932263468077732\n"
     ]
    }
   ],
   "source": [
    "#logistic regression\n",
    "from sklearn.linear_model import LogisticRegression\n",
    "logreg = LogisticRegression().fit(X_train_scaled, y_train) \n",
    "print(\"logreg .coef_: {}\".format(logreg.coef_))\n",
    "print(\"Training set score: {:.3f}\".format(logreg.score(X_train_scaled, y_train)))\n",
    "print(\"Test set score: {:.3f}\".format(logreg.score(X_test_scaled, y_test)))\n",
    "\n",
    "#cv\n",
    "from sklearn.model_selection import cross_val_score\n",
    "print(\"Cross Validation score: {}\".format(cross_val_score(LogisticRegression(),X_train_scaled,y_train).mean()))"
   ]
  },
  {
   "cell_type": "code",
   "execution_count": 88,
   "metadata": {},
   "outputs": [
    {
     "name": "stdout",
     "output_type": "stream",
     "text": [
      "logreg .coef_: [[-0.02971269  1.17994703 -0.39719359 -4.5201291   0.74248234  1.15560022\n",
      "  -3.05910434  4.64795083  0.          0.48665389  1.76759884  0.16720083]]\n",
      "Training set score: 0.994\n",
      "Test set score: 0.993\n",
      "Cross Validation score: 0.9936366032180297\n"
     ]
    }
   ],
   "source": [
    "#with l1 penalty\n",
    "from sklearn.linear_model import LogisticRegression\n",
    "logreg_l1 = LogisticRegression(penalty='l1').fit(X_train_scaled, y_train) \n",
    "print(\"logreg .coef_: {}\".format(logreg_l1.coef_))\n",
    "print(\"Training set score: {:.3f}\".format(logreg_l1.score(X_train_scaled, y_train)))\n",
    "print(\"Test set score: {:.3f}\".format(logreg_l1.score(X_test_scaled, y_test)))\n",
    "\n",
    "#cv\n",
    "from sklearn.model_selection import cross_val_score\n",
    "print(\"Cross Validation score: {}\".format(cross_val_score(LogisticRegression(penalty='l1'),X_train_scaled,y_train).mean()))\n"
   ]
  },
  {
   "cell_type": "code",
   "execution_count": 89,
   "metadata": {},
   "outputs": [
    {
     "name": "stdout",
     "output_type": "stream",
     "text": [
      "Training set score: 0.995\n",
      "Test set score: 0.991\n",
      "Cross Validation score: 0.9926103300174306\n"
     ]
    }
   ],
   "source": [
    "#knn\n",
    "from sklearn.neighbors import KNeighborsClassifier\n",
    "knn = KNeighborsClassifier().fit(X_train_scaled, y_train)\n",
    "print(\"Training set score: {:.3f}\".format(knn.score(X_train_scaled, y_train)))\n",
    "print(\"Test set score: {:.3f}\".format(knn.score(X_test_scaled, y_test)))\n",
    "\n",
    "#cv\n",
    "from sklearn.model_selection import cross_val_score\n",
    "print(\"Cross Validation score: {}\".format(cross_val_score(KNeighborsClassifier(),X_train_scaled,y_train).mean()))"
   ]
  },
  {
   "cell_type": "markdown",
   "metadata": {},
   "source": [
    "#### How does scaling the data with StandardScaler influence the results?\n",
    "The accuracy of all these models improved, and knn model had the largest improvement in accuracy, as it was affected most because the variance of varibles are pretty different. Now the 3 models have only slight different in accuracy."
   ]
  },
  {
   "cell_type": "markdown",
   "metadata": {},
   "source": [
    "### 2.3 Tune the parameters where possible using GridSearchCV. Do the results improve?"
   ]
  },
  {
   "cell_type": "code",
   "execution_count": 90,
   "metadata": {},
   "outputs": [],
   "source": [
    "from sklearn.model_selection import GridSearchCV\n",
    "import numpy as np"
   ]
  },
  {
   "cell_type": "code",
   "execution_count": 112,
   "metadata": {},
   "outputs": [
    {
     "name": "stdout",
     "output_type": "stream",
     "text": [
      "best mean cross-validation score: 0.994\n",
      "best parameters: {'C': 100}\n",
      "test-set score: 0.993\n"
     ]
    }
   ],
   "source": [
    "#logistic regression\n",
    "param_grid = {'C': [0.01,1,100,1e90]} \n",
    "from sklearn.model_selection import StratifiedKFold\n",
    "grid = GridSearchCV(LogisticRegression(), param_grid=param_grid,cv=StratifiedKFold())\n",
    "grid.fit(X_train_scaled, y_train)\n",
    "print(\"best mean cross-validation score: {:.3f}\".format(grid.best_score_))\n",
    "print(\"best parameters: {}\".format(grid.best_params_))\n",
    "print(\"test-set score: {:.3f}\".format(grid.score(X_test_scaled, y_test)))"
   ]
  },
  {
   "cell_type": "code",
   "execution_count": 109,
   "metadata": {},
   "outputs": [
    {
     "name": "stdout",
     "output_type": "stream",
     "text": [
      "best mean cross-validation score: 0.994\n",
      "best parameters: {'C': 1}\n",
      "test-set score: 0.993\n"
     ]
    }
   ],
   "source": [
    "#penalized logistic regression\n",
    "param_grid = {'C': [0.01,1,100,1e90]} \n",
    "from sklearn.model_selection import StratifiedKFold\n",
    "grid = GridSearchCV(LogisticRegression(penalty='l1'), param_grid=param_grid,cv=StratifiedKFold())\n",
    "grid.fit(X_train_scaled, y_train)\n",
    "print(\"best mean cross-validation score: {:.3f}\".format(grid.best_score_))\n",
    "print(\"best parameters: {}\".format(grid.best_params_))\n",
    "print(\"test-set score: {:.3f}\".format(grid.score(X_test_scaled, y_test)))"
   ]
  },
  {
   "cell_type": "code",
   "execution_count": 111,
   "metadata": {},
   "outputs": [
    {
     "name": "stdout",
     "output_type": "stream",
     "text": [
      "best mean cross-validation score: 0.994\n",
      "best parameters: {'n_neighbors': 11}\n",
      "test-set score: 0.991\n"
     ]
    }
   ],
   "source": [
    "#knn\n",
    "param_grid = {'n_neighbors': np.arange(1, 15, 2)} \n",
    "from sklearn.model_selection import StratifiedKFold\n",
    "grid = GridSearchCV(KNeighborsClassifier(), param_grid=param_grid,cv=StratifiedKFold())\n",
    "grid.fit(X_train_scaled, y_train)\n",
    "print(\"best mean cross-validation score: {:.3f}\".format(grid.best_score_))\n",
    "print(\"best parameters: {}\".format(grid.best_params_))\n",
    "print(\"test-set score: {:.3f}\".format(grid.score(X_test_scaled, y_test)))"
   ]
  },
  {
   "cell_type": "markdown",
   "metadata": {},
   "source": [
    "#### Do the result improve? \n",
    "Yes, the best mean cross-validation score improved by around 0.001-0.002 for logistic regression, penalized logisitic regression and knn."
   ]
  },
  {
   "cell_type": "markdown",
   "metadata": {},
   "source": [
    "### 2.4 Change the cross-validation strategy in GridSearchCV from ‘stratified k-fold’ to ‘kfold’ with shuffling. Do the best parameters for models that can be tuned change? "
   ]
  },
  {
   "cell_type": "code",
   "execution_count": 95,
   "metadata": {},
   "outputs": [
    {
     "name": "stdout",
     "output_type": "stream",
     "text": [
      "best mean cross-validation score: 0.994\n",
      "best parameters: {'C': 1}\n",
      "test-set score: 0.992\n"
     ]
    }
   ],
   "source": [
    "#logistic regression\n",
    "from sklearn.model_selection import KFold\n",
    "param_grid = {'C': [0.01,1,100,1e90]} \n",
    "grid = GridSearchCV(LogisticRegression(), param_grid=param_grid, cv=KFold(shuffle=True))\n",
    "grid.fit(X_train_scaled, y_train)\n",
    "print(\"best mean cross-validation score: {:.3f}\".format(grid.best_score_))\n",
    "print(\"best parameters: {}\".format(grid.best_params_))\n",
    "print(\"test-set score: {:.3f}\".format(grid.score(X_test_scaled, y_test)))"
   ]
  },
  {
   "cell_type": "code",
   "execution_count": 108,
   "metadata": {},
   "outputs": [
    {
     "name": "stdout",
     "output_type": "stream",
     "text": [
      "best mean cross-validation score: 0.994\n",
      "best parameters: {'C': 1}\n",
      "test-set score: 0.993\n"
     ]
    }
   ],
   "source": [
    "#penalized logistic regression\n",
    "from sklearn.model_selection import KFold\n",
    "param_grid = {'C': [0.01,1,100,1e90]} \n",
    "grid = GridSearchCV(LogisticRegression(penalty='l1'), param_grid=param_grid, cv=KFold(shuffle=True))\n",
    "grid.fit(X_train_scaled, y_train)\n",
    "print(\"best mean cross-validation score: {:.3f}\".format(grid.best_score_))\n",
    "print(\"best parameters: {}\".format(grid.best_params_))\n",
    "print(\"test-set score: {:.3f}\".format(grid.score(X_test_scaled, y_test)))"
   ]
  },
  {
   "cell_type": "code",
   "execution_count": 107,
   "metadata": {},
   "outputs": [
    {
     "name": "stdout",
     "output_type": "stream",
     "text": [
      "best mean cross-validation score: 0.993\n",
      "best parameters: {'n_neighbors': 3}\n",
      "test-set score: 0.993\n"
     ]
    }
   ],
   "source": [
    "#knn\n",
    "from sklearn.model_selection import KFold\n",
    "param_grid = {'n_neighbors': np.arange(1, 15, 2)} \n",
    "grid = GridSearchCV(KNeighborsClassifier(), param_grid=param_grid, cv=KFold(shuffle=True))\n",
    "grid.fit(X_train_scaled, y_train)\n",
    "print(\"best mean cross-validation score: {:.3f}\".format(grid.best_score_))\n",
    "print(\"best parameters: {}\".format(grid.best_params_))\n",
    "print(\"test-set score: {:.3f}\".format(grid.score(X_test_scaled, y_test)))"
   ]
  },
  {
   "cell_type": "markdown",
   "metadata": {},
   "source": [
    "#### Do the best parameters for models that can be tuned change?\n",
    "The best parameters changed for logistic regression (from C=100 to C=1) but didn't change for penalized logisitc regression (still C=1) and changed for knn(from n_neighbors=11 to n_neighbors=3)."
   ]
  },
  {
   "cell_type": "markdown",
   "metadata": {},
   "source": [
    "### 2.5 Lastly, compare the coefficients for Logistic Regression and Penalized Logistic Regression and discuss which final model you would choose to predict new data."
   ]
  },
  {
   "cell_type": "code",
   "execution_count": 99,
   "metadata": {},
   "outputs": [
    {
     "name": "stdout",
     "output_type": "stream",
     "text": [
      "logreg.coef_: [[ 0.2804866   1.22466779 -0.3620574  -3.29074973  0.75132094  0.92718852\n",
      "  -2.85285884  3.55492351  0.25562098  0.58835542  1.22168097  0.18202624]]\n"
     ]
    }
   ],
   "source": [
    "#logistic regression\n",
    "from sklearn.linear_model import LogisticRegression\n",
    "logreg = LogisticRegression(C=1)\n",
    "logreg.fit(X_train_scaled, y_train)\n",
    "print(\"logreg.coef_: {}\".format(logreg.coef_))"
   ]
  },
  {
   "cell_type": "code",
   "execution_count": 102,
   "metadata": {},
   "outputs": [
    {
     "name": "stdout",
     "output_type": "stream",
     "text": [
      "logreg.coef_: [[-0.03301966  1.17896145 -0.39761454 -4.53550055  0.74286843  1.15650121\n",
      "  -3.05988967  4.66304446  0.          0.48524562  1.77467601  0.16742793]]\n"
     ]
    }
   ],
   "source": [
    "#penalized logistic regression\n",
    "from sklearn.linear_model import LogisticRegression\n",
    "logreg = LogisticRegression(C=1,penalty='l1')\n",
    "logreg.fit(X_train_scaled, y_train)\n",
    "print(\"logreg.coef_: {}\".format(logreg.coef_))"
   ]
  },
  {
   "cell_type": "markdown",
   "metadata": {},
   "source": [
    "#### Discuss which final model you would choose to predict new data.\n",
    "I will use penalized logistic regression with l1 penality and C=1 as it has the highest mean cross-validation score and remove a variable compared with logistic regression, which makes it more compact. And it's easier to explain compared with knn."
   ]
  },
  {
   "cell_type": "code",
   "execution_count": null,
   "metadata": {},
   "outputs": [],
   "source": []
  }
 ],
 "metadata": {
  "kernelspec": {
   "display_name": "Python 3",
   "language": "python",
   "name": "python3"
  },
  "language_info": {
   "codemirror_mode": {
    "name": "ipython",
    "version": 3
   },
   "file_extension": ".py",
   "mimetype": "text/x-python",
   "name": "python",
   "nbconvert_exporter": "python",
   "pygments_lexer": "ipython3",
   "version": "3.7.4"
  }
 },
 "nbformat": 4,
 "nbformat_minor": 2
}
